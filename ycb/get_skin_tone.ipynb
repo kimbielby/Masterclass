{
 "cells": [
  {
   "cell_type": "code",
   "id": "initial_id",
   "metadata": {
    "collapsed": true
   },
   "source": [
    "import cv2\n",
    "import numpy as np\n",
    "import matplotlib.pyplot as plt\n"
   ],
   "outputs": [],
   "execution_count": null
  },
  {
   "metadata": {},
   "cell_type": "markdown",
   "source": "Read in and convert image",
   "id": "53ad85f8f0b62fae"
  },
  {
   "metadata": {},
   "cell_type": "code",
   "source": [
    "image_path = \"../outputs/example_seg_img.png\"\n",
    "image = cv2.imread(image_path)\n",
    "\n",
    "ycbcr_image = cv2.cvtColor(image, cv2.COLOR_BGR2YCrCb)\n",
    "y, cb, cr = cv2.split(ycbcr_image)\n"
   ],
   "id": "a745246e0f349d39",
   "outputs": [],
   "execution_count": null
  },
  {
   "metadata": {},
   "cell_type": "markdown",
   "source": "Define range for skin tones in Cb and Cr channels",
   "id": "a6cd4f9c10bfd76"
  },
  {
   "metadata": {},
   "cell_type": "code",
   "source": [
    "lower_cb = 77\n",
    "upper_cb = 140\n",
    "lower_cr = 133\n",
    "upper_cr = 180\n"
   ],
   "id": "9cef2f5b3fd8fc81",
   "outputs": [],
   "execution_count": null
  },
  {
   "metadata": {},
   "cell_type": "markdown",
   "source": "Create skin mask",
   "id": "dbbeed62ff1952da"
  },
  {
   "metadata": {},
   "cell_type": "code",
   "source": "skin_mask = (cb >= lower_cr) & (cb <= upper_cr) & (cr >= lower_cr) & (cr <= upper_cr)\n",
   "id": "871b264a8c095a62",
   "outputs": [],
   "execution_count": null
  },
  {
   "metadata": {},
   "cell_type": "code",
   "outputs": [],
   "execution_count": null,
   "source": "print(f\"Number of skin pixels detected:{np.sum(skin_mask)}\")\n",
   "id": "fb19974e684d55f6"
  },
  {
   "metadata": {},
   "cell_type": "code",
   "outputs": [],
   "execution_count": null,
   "source": [
    "plt.imshow(skin_mask, cmap=\"gray\")\n",
    "plt.title('Skin Mask')\n",
    "plt.axis(\"off\")\n",
    "plt.show()\n"
   ],
   "id": "f3940dd4924ea4b6"
  },
  {
   "metadata": {},
   "cell_type": "markdown",
   "source": "Apply mask to og image",
   "id": "59a5773528cd2432"
  },
  {
   "metadata": {},
   "cell_type": "code",
   "source": [
    "skin_pixels = cv2.bitwise_and(image, image, mask=skin_mask)\n",
    "skin_mask_uint8 = (skin_mask * 255).astype(np.uint8)\n"
   ],
   "id": "b5c9012c2407ab89",
   "outputs": [],
   "execution_count": null
  },
  {
   "metadata": {},
   "cell_type": "markdown",
   "source": "Calculate percentage of skin pixels in image",
   "id": "dba1a88b14ff4c20"
  },
  {
   "metadata": {},
   "cell_type": "code",
   "source": [
    "total_pixels = image.shape[0] * image.shape[1]\n",
    "skin_pixels_count = np.sum(skin_mask)\n",
    "skin_percentage = (skin_pixels_count / total_pixels) * 100\n"
   ],
   "id": "d6486f827e58d30a",
   "outputs": [],
   "execution_count": null
  },
  {
   "metadata": {},
   "cell_type": "code",
   "source": "print(f\"Percentage of skin tone pixels: {skin_percentage:.2f}%\")\n",
   "id": "74600aac43b3d1",
   "outputs": [],
   "execution_count": null
  },
  {
   "metadata": {},
   "cell_type": "markdown",
   "source": "Display skin tone regions",
   "id": "d63507e556016e14"
  },
  {
   "metadata": {},
   "cell_type": "code",
   "source": [
    "image_rgb = cv2.cvtColor(image, cv2.COLOR_BGR2RGB)\n",
    "\n",
    "fig, axes = plt.subplots(1, 3, figsize=(15, 5))\n",
    "\n",
    "axes[0].imshow(image_rgb)\n",
    "axes[0].set_title(\"OG Image\")\n",
    "axes[0].axis('off')\n",
    "\n",
    "axes[1].imshow(skin_mask, cmap=\"gray\")\n",
    "axes[1].set_title(\"Skin Mask\")\n",
    "axes[1].axis('off')\n",
    "\n",
    "axes[2].imshow(skin_pixels_rgb)\n",
    "\n",
    "skin_pixels_rgb = cv2.cvtColor(skin_pixels, cv2.COLOR_BGR2RGB)\n",
    "plt.imshow(skin_pixels_rgb)\n",
    "plt.axis(\"off\")\n",
    "plt.show()"
   ],
   "id": "1317c3fcb1f3e8e9",
   "outputs": [],
   "execution_count": null
  }
 ],
 "metadata": {
  "kernelspec": {
   "display_name": "Python 3",
   "language": "python",
   "name": "python3"
  },
  "language_info": {
   "codemirror_mode": {
    "name": "ipython",
    "version": 2
   },
   "file_extension": ".py",
   "mimetype": "text/x-python",
   "name": "python",
   "nbconvert_exporter": "python",
   "pygments_lexer": "ipython2",
   "version": "2.7.6"
  }
 },
 "nbformat": 4,
 "nbformat_minor": 5
}
