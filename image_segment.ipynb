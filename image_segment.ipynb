{
 "cells": [
  {
   "cell_type": "code",
   "id": "initial_id",
   "metadata": {
    "collapsed": true,
    "ExecuteTime": {
     "end_time": "2025-03-11T14:19:50.287168Z",
     "start_time": "2025-03-11T14:19:47.883034Z"
    }
   },
   "source": [
    "import mediapipe as mp\n",
    "import numpy as np\n",
    "from mediapipe.tasks import python\n",
    "from mediapipe.tasks.python import vision\n",
    "import matplotlib.pyplot as plt"
   ],
   "outputs": [],
   "execution_count": 1
  },
  {
   "metadata": {
    "ExecuteTime": {
     "end_time": "2025-03-11T14:19:50.317721Z",
     "start_time": "2025-03-11T14:19:50.300337Z"
    }
   },
   "cell_type": "code",
   "source": [
    "BG_COLOUR = (192, 192, 192)\n",
    "MASK_COLOUR = (255, 255, 255)"
   ],
   "id": "3276df78db9cd1ba",
   "outputs": [],
   "execution_count": 2
  },
  {
   "metadata": {},
   "cell_type": "markdown",
   "source": "Options for ImageSegementer",
   "id": "90f7f381e9d96b6c"
  },
  {
   "metadata": {
    "ExecuteTime": {
     "end_time": "2025-03-11T14:19:50.784583Z",
     "start_time": "2025-03-11T14:19:50.772897Z"
    }
   },
   "cell_type": "code",
   "source": [
    "model_path = \"models/selfie_multiclass_256x256.tflite\"\n",
    "base_options = python.BaseOptions(model_asset_path=model_path)\n",
    "options = vision.ImageSegmenterOptions(base_options=base_options,\n",
    "                                       output_category_mask=True, output_confidence_masks=False)\n"
   ],
   "id": "58c0da97202c6923",
   "outputs": [],
   "execution_count": 3
  },
  {
   "metadata": {},
   "cell_type": "markdown",
   "source": "Create image segementer",
   "id": "98aad245810b2373"
  },
  {
   "metadata": {
    "ExecuteTime": {
     "end_time": "2025-03-11T14:19:51.802613Z",
     "start_time": "2025-03-11T14:19:50.796038Z"
    }
   },
   "cell_type": "code",
   "source": [
    "# Create image segmenter\n",
    "with vision.ImageSegmenter.create_from_options(options=options) as segmenter:\n",
    "    # Create mp image file to be segmented\n",
    "    mp_image = mp.Image.create_from_file(\"data/20201124_142837.jpg\")\n",
    "\n",
    "    # Segment image\n",
    "    segmentation_result = segmenter.segment(mp_image)\n",
    "\n",
    "    # Retrieve masks for segmented image\n",
    "    category_mask = segmentation_result.category_mask\n",
    "\n",
    "    # Convert mask to np array\n",
    "    mask_array = np.array(category_mask.numpy_view())\n",
    "\n",
    "    # Define category labels\n",
    "    labels = ['Background', 'Hair', 'Body Skin', 'Face Skin', 'Clothes', 'Others (Accessories)']\n",
    "\n",
    "    # Map each unique value in the mask to its corresponding label\n",
    "    unique_values = np.unique(mask_array)\n",
    "    for value in unique_values:\n",
    "        print(f\"Category: {labels[value]}, Pixel Value: {value}\")\n",
    "\n",
    "    # Generate solid colour images for showing the output segmentation mask\n",
    "    image_data = mp_image.numpy_view()\n",
    "    fg_image = np.zeros(image_data.shape, dtype=np.uint8)\n",
    "    fg_image[:] = MASK_COLOUR\n",
    "    bg_image = np.zeros(image_data.shape, dtype=np.uint8)\n",
    "    bg_image[:] = BG_COLOUR\n",
    "\n",
    "    condition = np.stack((category_mask.numpy_view(),) * 3, axis=-1) > 0.2\n",
    "    output_image = np.where(condition, fg_image, bg_image)\n",
    "\n",
    "    print(f\"Segmentation mask of image: \")\n",
    "    plt.imshow(output_image)\n"
   ],
   "id": "93dac12db624d321",
   "outputs": [
    {
     "name": "stderr",
     "output_type": "stream",
     "text": [
      "C:\\Users\\kb_f5\\anaconda3\\envs\\masterclass\\lib\\site-packages\\mediapipe\\tasks\\python\\vision\\image_segmenter.py:158: UserWarning: MessageFactory class is deprecated. Please use GetMessageClass() instead of MessageFactory.GetPrototype. MessageFactory class will be removed after 2024.\n",
      "  graph_config = self._runner.get_graph_config()\n"
     ]
    },
    {
     "name": "stdout",
     "output_type": "stream",
     "text": [
      "Category: Background, Pixel Value: 0\n",
      "Category: Hair, Pixel Value: 1\n",
      "Category: Body Skin, Pixel Value: 2\n",
      "Category: Face Skin, Pixel Value: 3\n",
      "Category: Clothes, Pixel Value: 4\n",
      "Segmentation mask of image: \n"
     ]
    },
    {
     "data": {
      "text/plain": [
       "<Figure size 640x480 with 1 Axes>"
      ],
      "image/png": "[encoded data removed]"
     },
     "metadata": {},
     "output_type": "display_data"
    }
   ],
   "execution_count": 4
  },
  {
   "metadata": {
    "ExecuteTime": {
     "end_time": "2025-03-11T14:19:51.849356Z",
     "start_time": "2025-03-11T14:19:51.838262Z"
    }
   },
   "cell_type": "code",
   "source": "",
   "id": "a36dd45e27742b10",
   "outputs": [],
   "execution_count": null
  }
 ],
 "metadata": {
  "kernelspec": {
   "display_name": "Python 3",
   "language": "python",
   "name": "python3"
  },
  "language_info": {
   "codemirror_mode": {
    "name": "ipython",
    "version": 2
   },
   "file_extension": ".py",
   "mimetype": "text/x-python",
   "name": "python",
   "nbconvert_exporter": "python",
   "pygments_lexer": "ipython2",
   "version": "2.7.6"
  }
 },
 "nbformat": 4,
 "nbformat_minor": 5
}
