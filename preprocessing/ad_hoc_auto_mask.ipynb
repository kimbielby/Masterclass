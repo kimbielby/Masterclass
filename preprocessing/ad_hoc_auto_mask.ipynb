{
 "cells": [
  {
   "metadata": {},
   "cell_type": "code",
   "source": [
    "import cv2\n",
    "import numpy as np\n",
    "from segment_anything import sam_model_registry, SamAutomaticMaskGenerator\n"
   ],
   "id": "a8ff18312721e3d4",
   "outputs": [],
   "execution_count": null
  },
  {
   "metadata": {},
   "cell_type": "code",
   "source": [
    "image_path = \"../data/images/Alex Walking/frame.300.png\"\n",
    "image = cv2.imread(image_path)\n",
    "image = cv2.cvtColor(image, cv2.COLOR_BGR2RGB)\n",
    "\n",
    "checkpoint = \"../preprocessing/segmentation_models/SAM/sam_vit_h_4b8939.pth\"\n",
    "model_type = \"vit_h\"\n",
    "sam = sam_model_registry[model_type](checkpoint=checkpoint)\n",
    "mask_generator = SamAutomaticMaskGenerator(sam)\n"
   ],
   "id": "46d62e19071222f1",
   "outputs": [],
   "execution_count": null
  },
  {
   "metadata": {},
   "cell_type": "code",
   "source": [
    "masks = mask_generator.generate(image)\n",
    "masks = sorted(masks, key=lambda x: x[\"area\"], reverse=True)\n",
    "mask = masks[4][\"segmentation\"].astype(np.uint8) * 255\n",
    "\n",
    "cv2.imwrite(\"../data/outputs/masks/frame.300.png\", mask)\n"
   ],
   "id": "8a74698adcaa4670",
   "outputs": [],
   "execution_count": null
  }
 ],
 "metadata": {
  "kernelspec": {
   "display_name": "Python 3",
   "language": "python",
   "name": "python3"
  },
  "language_info": {
   "codemirror_mode": {
    "name": "ipython",
    "version": 2
   },
   "file_extension": ".py",
   "mimetype": "text/x-python",
   "name": "python",
   "nbconvert_exporter": "python",
   "pygments_lexer": "ipython2",
   "version": "2.7.6"
  }
 },
 "nbformat": 4,
 "nbformat_minor": 5
}
