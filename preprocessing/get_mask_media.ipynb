{
 "cells": [
  {
   "cell_type": "code",
   "id": "initial_id",
   "metadata": {
    "collapsed": true
   },
   "source": [
    "import matplotlib.pyplot as plt\n",
    "import numpy as np\n",
    "import mediapipe as mp\n",
    "from mediapipe.tasks import python\n",
    "from mediapipe.tasks.python import vision\n"
   ],
   "outputs": [],
   "execution_count": null
  },
  {
   "metadata": {},
   "cell_type": "code",
   "source": [
    "BG_COLOUR = (0, 0, 0)       # Black\n",
    "MASK_COLOUR = (255, 255, 255)   # White\n",
    "\n",
    "# Create options for ImageSegmenter\n",
    "base_options = python.BaseOptions(model_asset_path='../preprocessing/segmentation_models/MediaPipe/selfie_segmenter_landscape.tflite')\n",
    "options = vision.ImageSegmenterOptions(base_options=base_options, output_category_mask=True)\n",
    "\n",
    "# Create image segmenter\n",
    "with vision.ImageSegmenter.create_from_options(options=options) as segmenter:\n",
    "    # Create MediaPipe image file to be segmented\n",
    "    image = mp.Image.create_from_file(\"../data/images/YiJumping/frame.001.png\")\n",
    "\n",
    "    # Retrieve the masks\n",
    "    segmentation_result = segmenter.segment(image)\n",
    "    category_mask = segmentation_result.category_mask\n",
    "\n",
    "    # Generate solid colour images for showing the output segmentation mask\n",
    "    image_data = image.numpy_view()\n",
    "    fg_image = np.zeros(image_data.shape, np.uint8)\n",
    "    fg_image[:] = MASK_COLOUR\n",
    "    bg_image = np.zeros(image_data.shape, np.uint8)\n",
    "    bg_image[:] = BG_COLOUR\n",
    "\n",
    "    condition = np.stack((category_mask.numpy_view(),) * 3, axis=-1) > 0.2\n",
    "    output_image = np.where(condition, fg_image, bg_image)\n",
    "\n",
    "    print(f\"Segmentation mask:\")\n",
    "    plt.imshow(output_image)\n"
   ],
   "id": "f98e19de1caaf0c3",
   "outputs": [],
   "execution_count": null
  }
 ],
 "metadata": {
  "kernelspec": {
   "display_name": "Python 3",
   "language": "python",
   "name": "python3"
  },
  "language_info": {
   "codemirror_mode": {
    "name": "ipython",
    "version": 2
   },
   "file_extension": ".py",
   "mimetype": "text/x-python",
   "name": "python",
   "nbconvert_exporter": "python",
   "pygments_lexer": "ipython2",
   "version": "2.7.6"
  }
 },
 "nbformat": 4,
 "nbformat_minor": 5
}
