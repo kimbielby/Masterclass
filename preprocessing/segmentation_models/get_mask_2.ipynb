{
 "cells": [
  {
   "cell_type": "code",
   "id": "initial_id",
   "metadata": {
    "collapsed": true
   },
   "source": [
    "import numpy as np\n",
    "import torch\n",
    "import matplotlib.pyplot as plt\n",
    "import cv2\n",
    "from segment_anything import sam_model_registry, SamPredictor\n",
    "import os\n"
   ],
   "outputs": [],
   "execution_count": null
  },
  {
   "metadata": {},
   "cell_type": "markdown",
   "source": "Visuals",
   "id": "e250d4df9cf8566f"
  },
  {
   "metadata": {},
   "cell_type": "code",
   "source": [
    "def show_mask(mask, ax, random_color=False):\n",
    "    if random_color:\n",
    "        color = np.concatenate([np.random.random(3), np.array([0.6])], axis=0)\n",
    "    else:\n",
    "        color = np.array([30/255, 144/255, 255/255, 0.6])\n",
    "    h, w = mask.shape[-2:]\n",
    "    mask_image = mask.reshape(h, w, 1) * color.reshape(1, 1, -1)\n",
    "    ax.imshow(mask_image)\n",
    "\n",
    "def show_points(coords, labels, ax, marker_size=375):\n",
    "    pos_points = coords[labels==1]\n",
    "    neg_points = coords[labels==0]\n",
    "    ax.scatter(pos_points[:, 0], pos_points[:, 1], color='green', marker='*', s=marker_size, edgecolor='white', linewidth=1.25)\n",
    "    ax.scatter(neg_points[:, 0], neg_points[:, 1], color='red', marker='*', s=marker_size, edgecolor='white', linewidth=1.25)\n",
    "\n",
    "def show_box(box, ax):\n",
    "    x0, y0 = box[0], box[1]\n",
    "    w, h = box[2] - box[0], box[3] - box[1]\n",
    "    ax.add_patch(plt.Rectangle((x0, y0), w, h, edgecolor='green', facecolor=(0,0,0,0), lw=2))\n"
   ],
   "id": "b6da220d28e3cee4",
   "outputs": [],
   "execution_count": null
  },
  {
   "metadata": {},
   "cell_type": "markdown",
   "source": "Load image",
   "id": "b1b3a8e234ed30ee"
  },
  {
   "metadata": {},
   "cell_type": "code",
   "source": [
    "# Load image\n",
    "image_path = \"/home/s5727767/Documents/Coursework/Semester2/Masterclass/mclass_code/data/images/YiJumping/frame.001.png\"\n",
    "image = cv2.imread(image_path)\n",
    "image = cv2.cvtColor(image, cv2.COLOR_BGR2RGB)\n"
   ],
   "id": "c187c0d47e365912",
   "outputs": [],
   "execution_count": null
  },
  {
   "metadata": {},
   "cell_type": "markdown",
   "source": "Create new filename to save as",
   "id": "5a1afd9a6cf5b1ae"
  },
  {
   "metadata": {},
   "cell_type": "code",
   "source": [
    "# Create new filename\n",
    "base, _ = os.path.splitext(os.path.basename(image_path))\n",
    "output_name = f\"{base}_Mask_\"\n",
    "output_path = os.path.join(\"/home/s5727767/Documents/Coursework/Semester2/Masterclass/mclass_code/data/outputs\", output_name)\n"
   ],
   "id": "bb38cd8e704a68be",
   "outputs": [],
   "execution_count": null
  },
  {
   "metadata": {},
   "cell_type": "markdown",
   "source": "Show image",
   "id": "7474037f905f5265"
  },
  {
   "metadata": {},
   "cell_type": "code",
   "source": "plt.imshow(image)\n",
   "id": "76324c6a52eb6076",
   "outputs": [],
   "execution_count": null
  },
  {
   "metadata": {},
   "cell_type": "markdown",
   "source": "Load SAM model and create Predictor",
   "id": "c8f66fc0808b0172"
  },
  {
   "metadata": {},
   "cell_type": "code",
   "source": [
    "# Load SAM model\n",
    "checkpoint = \"/home/s5727767/Documents/Coursework/Semester2/Masterclass/mclass_code/preprocessing/segmentation_models/SAM/sam_vit_h_4b8939.pth\"\n",
    "model_type = \"vit_h\"\n",
    "\n",
    "sam = sam_model_registry[model_type](checkpoint=checkpoint)\n",
    "sam.to(\"cuda\" if torch.cuda.is_available() else \"cpu\")\n",
    "\n",
    "predictor = SamPredictor(sam)\n"
   ],
   "id": "be492a8c033c4972",
   "outputs": [],
   "execution_count": null
  },
  {
   "metadata": {},
   "cell_type": "code",
   "source": "predictor.set_image(image)\n",
   "id": "aa0bd2241c4b7410",
   "outputs": [],
   "execution_count": null
  },
  {
   "metadata": {},
   "cell_type": "markdown",
   "source": "Get centre of image",
   "id": "fa620c23b3858266"
  },
  {
   "metadata": {},
   "cell_type": "code",
   "source": [
    "h, w = image.shape[:2]\n",
    "centre_x = w // 2\n",
    "centre_y = h // 2\n",
    "\n",
    "input_point = np.array([[centre_x, centre_y]])\n",
    "input_label = np.array([1])"
   ],
   "id": "c4d8a25325bb179f",
   "outputs": [],
   "execution_count": null
  },
  {
   "metadata": {},
   "cell_type": "markdown",
   "source": "Display image with star showing centre point",
   "id": "a7a0e10a16afe1ce"
  },
  {
   "metadata": {},
   "cell_type": "code",
   "source": [
    "plt.figure(figsize=(10, 10))\n",
    "plt.imshow(image)\n",
    "show_points(input_point, input_label, ax=plt.gca())\n",
    "plt.axis('on')\n",
    "plt.show()"
   ],
   "id": "73c101a781da1ee2",
   "outputs": [],
   "execution_count": null
  },
  {
   "metadata": {},
   "cell_type": "markdown",
   "source": "Get masks",
   "id": "1e43dddb4c272505"
  },
  {
   "metadata": {},
   "cell_type": "code",
   "source": [
    "masks, scores, logits = predictor.predict(\n",
    "    point_coords=input_point,\n",
    "    point_labels=input_label,\n",
    "    multimask_output=True\n",
    ")\n",
    "\n"
   ],
   "id": "a60ebe821c7c8c10",
   "outputs": [],
   "execution_count": null
  },
  {
   "metadata": {},
   "cell_type": "code",
   "source": "masks.shape     # (number of masks) x H x W\n",
   "id": "935b045d5d4e70b9",
   "outputs": [],
   "execution_count": null
  },
  {
   "metadata": {},
   "cell_type": "markdown",
   "source": "Display and save various combos of masks and og image",
   "id": "d291f2086b071de3"
  },
  {
   "metadata": {},
   "cell_type": "code",
   "source": [
    "for i, (mask, score) in enumerate(zip(masks, scores)):\n",
    "    # Plot\n",
    "    plt.figure(figsize=(10,10))\n",
    "    plt.imshow(image)\n",
    "    show_mask(mask, plt.gca())\n",
    "    show_points(input_point, input_label, plt.gca())\n",
    "    plt.title(f\"Mask {i+1}, Score: {score:.3f}\", fontsize=18)\n",
    "    plt.axis('off')\n",
    "\n",
    "\n",
    "    # Create RGBA if it is the final mask\n",
    "    if i == 2:\n",
    "        mask_uint8 = (mask.astype(np.uint8)) * 255\n",
    "        inverse_mask_uint8 = cv2.bitwise_not(mask_uint8)\n",
    "\n",
    "        rgba = cv2.cvtColor(image, cv2.COLOR_RGB2RGBA)\n",
    "\n",
    "        person_cutout = rgba.copy()\n",
    "        person_cutout[:, :, 3] = mask_uint8\n",
    "        cv2.imwrite(f\"{output_path}Cutout.png\", person_cutout)\n",
    "\n",
    "        background_only = rgba.copy()\n",
    "        background_only[:, :, 3] = inverse_mask_uint8\n",
    "        cv2.imwrite(f\"{output_path}Background.png\", background_only)\n",
    "\n",
    "\n",
    "    # Save\n",
    "    plt.savefig(f\"{output_path}{i+1}.png\", bbox_inches='tight', pad_inches=0)       # Save exactly what it plots\n",
    "    cv2.imwrite(f\"{output_path}Only_{i+1}.png\", mask.astype(np.uint8) * 255)        # Save just the mask\n",
    "    # Show\n",
    "    plt.show()\n",
    "\n",
    "\n"
   ],
   "id": "fcfe41cc7a735cef",
   "outputs": [],
   "execution_count": null
  }
 ],
 "metadata": {
  "kernelspec": {
   "display_name": "Python 3",
   "language": "python",
   "name": "python3"
  },
  "language_info": {
   "codemirror_mode": {
    "name": "ipython",
    "version": 2
   },
   "file_extension": ".py",
   "mimetype": "text/x-python",
   "name": "python",
   "nbconvert_exporter": "python",
   "pygments_lexer": "ipython2",
   "version": "2.7.6"
  }
 },
 "nbformat": 4,
 "nbformat_minor": 5
}
