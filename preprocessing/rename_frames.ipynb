{
 "cells": [
  {
   "cell_type": "code",
   "id": "initial_id",
   "metadata": {
    "collapsed": true
   },
   "source": "import os\n",
   "outputs": [],
   "execution_count": null
  },
  {
   "metadata": {},
   "cell_type": "code",
   "source": [
    "gt_folder = \"../data/images/gt/yi_walking_gt\"\n",
    "spill_folder = \"../data/images/spill/yi_walking_spill\"\n"
   ],
   "id": "f1870448afd62267",
   "outputs": [],
   "execution_count": null
  },
  {
   "metadata": {},
   "cell_type": "code",
   "source": [
    "for filename in os.listdir(gt_folder):\n",
    "    # Get the number part of the og filename\n",
    "    img_num = filename.split(\".\")[1]\n",
    "    # Use it in the new filename\n",
    "    new_filename = f\"gt_yi_walking_{img_num}.png\"\n",
    "    # Specify og path and new path\n",
    "    og_path = os.path.join(gt_folder, filename)\n",
    "    new_path = os.path.join(gt_folder, new_filename)\n",
    "    # Rename the file\n",
    "    os.rename(og_path, new_path)\n",
    "    print(f\"Renamed: {filename} -> {new_filename}\")"
   ],
   "id": "fe7898205b2f8014",
   "outputs": [],
   "execution_count": null
  },
  {
   "metadata": {},
   "cell_type": "code",
   "source": [
    "for filename in os.listdir(spill_folder):\n",
    "    img_num = filename.split(\".\")[1]\n",
    "    new_filename = f\"spill_yi_walking_{img_num}.png\"\n",
    "    og_path = os.path.join(spill_folder, filename)\n",
    "    new_path = os.path.join(spill_folder, new_filename)\n",
    "    os.rename(og_path, new_path)\n",
    "    print(f\"Renamed: {filename} -> {new_filename}\")\n",
    "\n"
   ],
   "id": "7bce95dadee12200",
   "outputs": [],
   "execution_count": null
  }
 ],
 "metadata": {
  "kernelspec": {
   "display_name": "Python 3",
   "language": "python",
   "name": "python3"
  },
  "language_info": {
   "codemirror_mode": {
    "name": "ipython",
    "version": 2
   },
   "file_extension": ".py",
   "mimetype": "text/x-python",
   "name": "python",
   "nbconvert_exporter": "python",
   "pygments_lexer": "ipython2",
   "version": "2.7.6"
  }
 },
 "nbformat": 4,
 "nbformat_minor": 5
}
