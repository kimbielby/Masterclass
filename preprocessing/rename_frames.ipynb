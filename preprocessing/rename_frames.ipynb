{
 "cells": [
  {
   "cell_type": "code",
   "execution_count": null,
   "id": "initial_id",
   "metadata": {
    "collapsed": true
   },
   "outputs": [],
   "source": "import os\n"
  },
  {
   "metadata": {},
   "cell_type": "code",
   "outputs": [],
   "execution_count": null,
   "source": [
    "gt_folder = \"./data/images/gt/alex_jumping_gt\"\n",
    "spill_folder = \"./data/images/spill/alex_jumping_spill\"\n",
    "\n"
   ],
   "id": "5dfeddd182c526ac"
  },
  {
   "metadata": {},
   "cell_type": "code",
   "outputs": [],
   "execution_count": null,
   "source": [
    "for filename in os.listdir(gt_folder):\n",
    "    # Get the number part of the og filename\n",
    "    img_num = filename.split(\".\")[1]\n",
    "    # Use it in the new filename\n",
    "    new_filename = f\"gt_alex_jumping_{img_num}.png\"\n",
    "    # Specify og path and new path\n",
    "    og_path = os.path.join(gt_folder, filename)\n",
    "    new_path = os.path.join(gt_folder, new_filename)\n",
    "    # Rename the file\n",
    "    os.rename(og_path, new_path)\n",
    "    print(f\"Renamed: {filename} -> {new_filename}\")"
   ],
   "id": "fe7898205b2f8014"
  },
  {
   "metadata": {},
   "cell_type": "code",
   "outputs": [],
   "execution_count": null,
   "source": [
    "for filename in os.listdir(spill_folder):\n",
    "    img_num = filename.split(\".\")[1]\n",
    "    new_filename = f\"spill_alex_jumping_{img_num}.png\"\n",
    "    og_path = os.path.join(spill_folder, filename)\n",
    "    new_path = os.path.join(spill_folder, new_filename)\n",
    "    os.rename(og_path, new_path)\n",
    "    print(f\"Renamed: {filename} -> {new_filename}\")\n",
    "\n"
   ],
   "id": "7bce95dadee12200"
  }
 ],
 "metadata": {
  "kernelspec": {
   "display_name": "Python 3",
   "language": "python",
   "name": "python3"
  },
  "language_info": {
   "codemirror_mode": {
    "name": "ipython",
    "version": 2
   },
   "file_extension": ".py",
   "mimetype": "text/x-python",
   "name": "python",
   "nbconvert_exporter": "python",
   "pygments_lexer": "ipython2",
   "version": "2.7.6"
  }
 },
 "nbformat": 4,
 "nbformat_minor": 5
}
