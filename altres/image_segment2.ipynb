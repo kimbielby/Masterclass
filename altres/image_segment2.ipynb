{
 "cells": [
  {
   "cell_type": "code",
   "id": "initial_id",
   "metadata": {
    "collapsed": true
   },
   "source": [
    "import cv2\n",
    "import mediapipe as mp\n",
    "import numpy as np\n",
    "from mediapipe.tasks import python\n",
    "from mediapipe.tasks.python import vision\n",
    "import matplotlib.pyplot as plt"
   ],
   "outputs": [],
   "execution_count": null
  },
  {
   "metadata": {},
   "cell_type": "code",
   "source": [
    "BG_COLOUR = (192, 192, 192)\n",
    "MASK_COLOUR = (255, 255, 255)"
   ],
   "id": "95118df2d4c00624",
   "outputs": [],
   "execution_count": null
  },
  {
   "metadata": {},
   "cell_type": "markdown",
   "source": "Options for Image Segmenter",
   "id": "9b43eab85ba187f9"
  },
  {
   "metadata": {},
   "cell_type": "code",
   "source": [
    "model_path = \"../models/selfie_multiclass_256x256.tflite\"\n",
    "base_options = python.BaseOptions(model_asset_path=model_path)\n",
    "options = vision.ImageSegmenterOptions(base_options=base_options,\n",
    "                                       output_category_mask=True, output_confidence_masks=False)\n"
   ],
   "id": "af8f40c299068d35",
   "outputs": [],
   "execution_count": null
  },
  {
   "metadata": {},
   "cell_type": "markdown",
   "source": "Create Image Segmenter",
   "id": "cffce3adba3d825e"
  },
  {
   "metadata": {},
   "cell_type": "code",
   "source": [
    "with vision.ImageSegmenter.create_from_options(options) as segmenter:\n",
    "    # Load input image\n",
    "    input_image = mp.Image.create_from_file(\"data/wynonnaearp.jpg\")\n",
    "\n",
    "    # Segment\n",
    "    segmentation_result = segmenter.segment(input_image)\n",
    "\n",
    "    # Get category mask\n",
    "    category_mask = np.array(segmentation_result.category_mask.numpy_view())\n",
    "\n",
    "# Define category labels\n",
    "labels = {\n",
    "    \"Background\": 0,\n",
    "    \"Hair\": 1,\n",
    "    \"Body Skin\": 2,\n",
    "    \"Face Skin\": 3,\n",
    "    \"Clothes\": 4,\n",
    "    \"Others (Accessories)\": 5\n",
    "}\n",
    "\n",
    "# Select a label\n",
    "selected_label = \"Face Skin\"\n",
    "selected_index = labels[selected_label]\n",
    "\n",
    "# Load og image\n",
    "og_image = cv2.imread(\"data/wynonnaearp.jpg\")\n",
    "og_image = cv2.cvtColor(og_image, cv2.COLOR_BGR2RGB)\n",
    "\n",
    "# Create binary mask\n",
    "binary_mask = (category_mask == selected_index).astype(np.uint8) * 255\n",
    "\n",
    "# Apply mask to og image\n",
    "segmented_image = cv2.bitwise_and(og_image, og_image, mask=binary_mask)\n"
   ],
   "id": "9b9968433a222361",
   "outputs": [],
   "execution_count": null
  },
  {
   "metadata": {},
   "cell_type": "markdown",
   "source": "Display",
   "id": "b851a21f5c9e9c34"
  },
  {
   "metadata": {},
   "cell_type": "code",
   "source": "plt.imshow(og_image) ",
   "id": "b33e584a066b12e1",
   "outputs": [],
   "execution_count": null
  },
  {
   "metadata": {},
   "cell_type": "code",
   "source": "plt.imshow(binary_mask)",
   "id": "69e185a59632b795",
   "outputs": [],
   "execution_count": null
  },
  {
   "metadata": {},
   "cell_type": "code",
   "source": "plt.imshow(segmented_image)",
   "id": "45adc52a86c8ea9e",
   "outputs": [],
   "execution_count": null
  }
 ],
 "metadata": {
  "kernelspec": {
   "display_name": "Python 3",
   "language": "python",
   "name": "python3"
  },
  "language_info": {
   "codemirror_mode": {
    "name": "ipython",
    "version": 2
   },
   "file_extension": ".py",
   "mimetype": "text/x-python",
   "name": "python",
   "nbconvert_exporter": "python",
   "pygments_lexer": "ipython2",
   "version": "2.7.6"
  }
 },
 "nbformat": 4,
 "nbformat_minor": 5
}
