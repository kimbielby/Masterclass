{
 "cells": [
  {
   "cell_type": "code",
   "id": "initial_id",
   "metadata": {
    "collapsed": true
   },
   "source": [
    "import cv2\n",
    "import os\n",
    "from Utils import get_filepaths, move_files, rename_files_in_folder"
   ],
   "outputs": [],
   "execution_count": null
  },
  {
   "metadata": {},
   "cell_type": "markdown",
   "source": "Create GT folder then move images into it",
   "id": "fa8271364866fa3e"
  },
  {
   "metadata": {},
   "cell_type": "code",
   "source": [
    "# Base path\n",
    "base_path = \"./data/images/dset\"\n",
    "# Get list of subfolder where the images are\n",
    "source_dirs = get_filepaths(base_path)\n",
    "# Destination directory\n",
    "destination_dir = os.path.join(base_path, \"gt\")\n",
    "\n",
    "move_files(base_dir=base_path, sub_dir_list=source_dirs, dest_dir=destination_dir)\n",
    "\n"
   ],
   "id": "b540b51e08ec27e5",
   "outputs": [],
   "execution_count": null
  },
  {
   "metadata": {},
   "cell_type": "markdown",
   "source": "Rename all images in the gt folder",
   "id": "1f79e75bb2d52913"
  },
  {
   "metadata": {},
   "cell_type": "code",
   "source": [
    "img_dir = \"./data/images/dset/gt\"\n",
    "name_start = \"img_\"\n",
    "name_end = \"_gt\"\n",
    "\n",
    "rename_files_in_folder(folder=img_dir, new_name_s=name_start, new_name_e=name_end)\n"
   ],
   "id": "c52813a54785bfa2",
   "outputs": [],
   "execution_count": null
  },
  {
   "metadata": {},
   "cell_type": "markdown",
   "source": "Add green spill to gt images",
   "id": "ecff171d64766b33"
  },
  {
   "metadata": {},
   "cell_type": "code",
   "source": "",
   "id": "fb4b27b0585199e",
   "outputs": [],
   "execution_count": null
  }
 ],
 "metadata": {
  "kernelspec": {
   "display_name": "Python 3",
   "language": "python",
   "name": "python3"
  },
  "language_info": {
   "codemirror_mode": {
    "name": "ipython",
    "version": 2
   },
   "file_extension": ".py",
   "mimetype": "text/x-python",
   "name": "python",
   "nbconvert_exporter": "python",
   "pygments_lexer": "ipython2",
   "version": "2.7.6"
  }
 },
 "nbformat": 4,
 "nbformat_minor": 5
}
