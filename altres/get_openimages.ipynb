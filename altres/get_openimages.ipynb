{
 "cells": [
  {
   "cell_type": "code",
   "id": "initial_id",
   "metadata": {
    "collapsed": true
   },
   "source": [
    "import fiftyone.zoo as foz\n",
    "from fiftyone import ViewField as F\n"
   ],
   "outputs": [],
   "execution_count": null
  },
  {
   "metadata": {},
   "cell_type": "code",
   "source": [
    "# Download a dataset with only 'Person' labels\n",
    "dataset = foz.load_zoo_dataset(\n",
    "    \"open-images-v6\",\n",
    "    split=\"validation\",\n",
    "    label_types=[\"detections\"],\n",
    "    classes=[\"Person\", \"Human face\"],\n",
    "    max_samples=500\n",
    ")\n",
    "\n",
    "# Filter for images that have both Person and Human face\n",
    "filtered_view = dataset.match(\n",
    "    (\n",
    "        (F(\"ground_truth.detections\").filter(F(\"label\") == \"Person\").length() > 0)\n",
    "        &\n",
    "        (F(\"ground_truth.detections\").filter(F(\"label\") == \"Human face\").length() > 0)\n",
    "    )\n",
    ")\n",
    "\n",
    "print(f\"Filtered to {len(filtered_view)} images that have both Person and Human face\")\n"
   ],
   "id": "ca58d4a5470c064e",
   "outputs": [],
   "execution_count": null
  },
  {
   "metadata": {},
   "cell_type": "code",
   "source": [
    "all_labels = dataset.distinct(\"ground_truth.detections.label\")\n",
    "print(all_labels)"
   ],
   "id": "b44d3b5822a5e3b4",
   "outputs": [],
   "execution_count": null
  },
  {
   "metadata": {},
   "cell_type": "code",
   "source": "print(dataset.get_field_schema())",
   "id": "59c7dc82d6c2048f",
   "outputs": [],
   "execution_count": null
  }
 ],
 "metadata": {
  "kernelspec": {
   "display_name": "Python 3",
   "language": "python",
   "name": "python3"
  },
  "language_info": {
   "codemirror_mode": {
    "name": "ipython",
    "version": 2
   },
   "file_extension": ".py",
   "mimetype": "text/x-python",
   "name": "python",
   "nbconvert_exporter": "python",
   "pygments_lexer": "ipython2",
   "version": "2.7.6"
  }
 },
 "nbformat": 4,
 "nbformat_minor": 5
}
