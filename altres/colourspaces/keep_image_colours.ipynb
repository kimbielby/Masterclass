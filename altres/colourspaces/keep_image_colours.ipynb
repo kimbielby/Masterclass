{
 "cells": [
  {
   "metadata": {},
   "cell_type": "code",
   "outputs": [],
   "execution_count": null,
   "source": [
    "import cv2\n",
    "import mediapipe as mp\n",
    "import numpy as np\n"
   ],
   "id": "ff9d07749ae2a117"
  },
  {
   "metadata": {},
   "cell_type": "code",
   "outputs": [],
   "execution_count": null,
   "source": [
    "image = cv2.imread(\"../data/images/StockPhoto1.jpg\")\n",
    "image_rgb = cv2.cvtColor(image, cv2.COLOR_BGR2RGB)"
   ],
   "id": "5e10c19a7e89ea3b"
  },
  {
   "metadata": {},
   "cell_type": "code",
   "outputs": [],
   "execution_count": null,
   "source": [
    "mp_selfie_segmentation = mp.solutions.selfie_segmentation\n",
    "segment = mp_selfie_segmentation.SelfieSegmentation(model_selection=1)\n",
    "results = segment.process(image_rgb)\n",
    "mask = results.segmentation_mask\n",
    "condition = mask > 0.5\n",
    "condition_3ch = np.stack((condition,) * 3, axis=-1)\n",
    "background = np.ones_like(image) * 255\n",
    "output_image = np.where(condition_3ch, image, background)\n"
   ],
   "id": "846b9ed02b6bb49b"
  },
  {
   "metadata": {},
   "cell_type": "code",
   "outputs": [],
   "execution_count": null,
   "source": "cv2.imwrite(\"segmented_output.jpg\", output_image)",
   "id": "8967e6892d7e8cef"
  }
 ],
 "metadata": {},
 "nbformat": 4,
 "nbformat_minor": 5
}
