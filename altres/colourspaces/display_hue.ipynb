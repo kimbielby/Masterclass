{
 "cells": [
  {
   "cell_type": "code",
   "id": "initial_id",
   "metadata": {
    "collapsed": true,
    "ExecuteTime": {
     "end_time": "2025-04-16T13:02:55.221675Z",
     "start_time": "2025-04-16T13:02:54.619962Z"
    }
   },
   "source": [
    "import matplotlib.pyplot as plt\n",
    "import colorsys\n",
    "from matplotlib import patches\n"
   ],
   "outputs": [],
   "execution_count": 1
  },
  {
   "metadata": {
    "ExecuteTime": {
     "end_time": "2025-04-16T13:02:55.225485Z",
     "start_time": "2025-04-16T13:02:55.224025Z"
    }
   },
   "cell_type": "code",
   "source": [
    "hue = 25 / 360\n",
    "sat = 35 / 100\n",
    "lum = 32 / 100\n"
   ],
   "id": "8f462588439640b3",
   "outputs": [],
   "execution_count": 2
  },
  {
   "metadata": {
    "ExecuteTime": {
     "end_time": "2025-04-16T13:02:55.551400Z",
     "start_time": "2025-04-16T13:02:55.499047Z"
    }
   },
   "cell_type": "code",
   "source": [
    "# Display with matplotlib\n",
    "rgb = colorsys.hls_to_rgb(hue, lum, sat)\n",
    "\n",
    "fig, ax = plt.subplots(figsize=(3, 3))\n",
    "# Draw full sized rectangle to fill plot\n",
    "rect = patches.Rectangle((0,0), 1, 1, facecolor=rgb)\n",
    "ax.add_patch(rect)\n",
    "\n",
    "ax.set_xticks([])\n",
    "ax.set_yticks([])\n",
    "ax.set_xlim(0, 1)\n",
    "ax.set_ylim(0, 1)\n",
    "ax.set_aspect('equal')\n",
    "plt.box(False)\n",
    "\n",
    "# Save plot\n",
    "# plt.savefig('../outputs/hue.png', bbox_inches='tight', pad_inches=0, dpi=300)\n",
    "\n",
    "# Display plot\n",
    "plt.show()\n",
    "\n"
   ],
   "id": "c875567e37250ccf",
   "outputs": [
    {
     "data": {
      "text/plain": [
       "<Figure size 300x300 with 1 Axes>"
      ],
      "image/png": "[encoded data removed]"
     },
     "metadata": {},
     "output_type": "display_data"
    }
   ],
   "execution_count": 3
  }
 ],
 "metadata": {
  "kernelspec": {
   "display_name": "Python 3",
   "language": "python",
   "name": "python3"
  },
  "language_info": {
   "codemirror_mode": {
    "name": "ipython",
    "version": 2
   },
   "file_extension": ".py",
   "mimetype": "text/x-python",
   "name": "python",
   "nbconvert_exporter": "python",
   "pygments_lexer": "ipython2",
   "version": "2.7.6"
  }
 },
 "nbformat": 4,
 "nbformat_minor": 5
}
