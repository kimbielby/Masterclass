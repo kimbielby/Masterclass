{
 "cells": [
  {
   "cell_type": "code",
   "id": "initial_id",
   "metadata": {
    "collapsed": true
   },
   "source": [
    "import cv2\n",
    "import numpy as np\n",
    "from copy import deepcopy\n",
    "from matplotlib import pyplot as plt\n",
    "from preprocessing import identify_face_etc as iden\n"
   ],
   "outputs": [],
   "execution_count": null
  },
  {
   "metadata": {},
   "cell_type": "markdown",
   "source": "Segment Face and Skin",
   "id": "18e773eb029e1067"
  },
  {
   "metadata": {},
   "cell_type": "code",
   "source": [
    "image_path = \"../../data/images/greenspillexample.jpg\"\n",
    "class_indices = [2, 3]\n",
    "seg_img = iden.segment_face_et_al(og_img_path=image_path, class_indices=class_indices)"
   ],
   "id": "3e7d45ddd2287874",
   "outputs": [],
   "execution_count": null
  },
  {
   "metadata": {},
   "cell_type": "code",
   "source": "plt.imshow(seg_img)\n",
   "id": "208958a4c3af2580",
   "outputs": [],
   "execution_count": null
  },
  {
   "metadata": {},
   "cell_type": "markdown",
   "source": "Change into YCB Colourspace",
   "id": "37336c62beba2dd"
  },
  {
   "metadata": {},
   "cell_type": "code",
   "source": "ycb_seg_img = cv2.cvtColor(seg_img, cv2.COLOR_BGR2YCrCb)\n",
   "id": "d9fea0c49c70ac95",
   "outputs": [],
   "execution_count": null
  }
 ],
 "metadata": {
  "kernelspec": {
   "display_name": "Python 3",
   "language": "python",
   "name": "python3"
  },
  "language_info": {
   "codemirror_mode": {
    "name": "ipython",
    "version": 2
   },
   "file_extension": ".py",
   "mimetype": "text/x-python",
   "name": "python",
   "nbconvert_exporter": "python",
   "pygments_lexer": "ipython2",
   "version": "2.7.6"
  }
 },
 "nbformat": 4,
 "nbformat_minor": 5
}
