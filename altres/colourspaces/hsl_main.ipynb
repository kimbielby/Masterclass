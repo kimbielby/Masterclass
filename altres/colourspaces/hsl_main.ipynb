{
 "cells": [
  {
   "metadata": {},
   "cell_type": "code",
   "source": [
    "import cv2\n",
    "import numpy as np\n",
    "from preprocessing import identify_face_etc as iden\n",
    "from altres.colourspaces import hsl_calculations as hcalc, hsl_colourspace_stuff as hcol"
   ],
   "id": "9fa0111d50e4b612",
   "outputs": [],
   "execution_count": null
  },
  {
   "metadata": {},
   "cell_type": "markdown",
   "source": "Segment face and skin",
   "id": "1a87f87de26834b0"
  },
  {
   "metadata": {},
   "cell_type": "code",
   "source": [
    "image_path = \"../../data/images/spill01.jpg\"\n",
    "class_indices = [2, 3]\n",
    "seg_img = iden.segment_face_et_al(og_img_path=image_path, class_indices=class_indices)\n",
    "# NOTE: bin_mask and seg_img are numpy arrays"
   ],
   "id": "3f7b68d6b3618215",
   "outputs": [],
   "execution_count": null
  },
  {
   "metadata": {},
   "cell_type": "markdown",
   "source": "Find target skin tone",
   "id": "e9ba55ca45978431"
  },
  {
   "metadata": {},
   "cell_type": "code",
   "source": [
    "hsv_seg = cv2.cvtColor(seg_img, cv2.COLOR_BGR2HSV)  # HSV\n",
    "hls_seg = cv2.cvtColor(seg_img, cv2.COLOR_BGR2HLS)    # HLS\n",
    "hue, lum, sat = cv2.split(hls_seg)  # Hue, Luminosity, Saturation\n",
    "\n",
    "# Create skin mask\n",
    "lower = np.array([0, 40, 20])           # Hue, Luminosity, Saturation\n",
    "upper = np.array([80, 220, 225])     # Hue, Luminosity, Saturation\n",
    "skin_mask = cv2.inRange(hls_seg, lower, upper)\n",
    "skin_pixels = hls_seg[skin_mask > 0]\n"
   ],
   "id": "acb837687ea0fca5",
   "outputs": [],
   "execution_count": null
  },
  {
   "metadata": {
    "ExecuteTime": {
     "end_time": "2025-05-02T11:06:21.661025Z",
     "start_time": "2025-05-02T11:06:21.658576Z"
    }
   },
   "cell_type": "code",
   "source": "hsv_seg.shape",
   "id": "1044d91160310d31",
   "outputs": [
    {
     "data": {
      "text/plain": [
       "(472, 630, 3)"
      ]
     },
     "execution_count": 8,
     "metadata": {},
     "output_type": "execute_result"
    }
   ],
   "execution_count": 8
  },
  {
   "metadata": {},
   "cell_type": "code",
   "source": [
    "# TODO: See gpt for binning clusters and getting hsl values not just hue  - hsl_calculations.py\n",
    "# Get dominant hue\n",
    "dom_hue = hcalc.get_dom_hue(skin_pix_mask=skin_pixels)\n"
   ],
   "id": "453f7ab2a028aff0",
   "outputs": [],
   "execution_count": null
  },
  {
   "metadata": {},
   "cell_type": "markdown",
   "source": "Detect green spill",
   "id": "6a3fa22d9d68c52e"
  },
  {
   "metadata": {},
   "cell_type": "code",
   "source": [
    "# Create heatmap\n",
    "save_as = \"outputs/og_heatmap.png\"\n",
    "hcol.create_colour_heatmap(hsv_img=hsv_seg, targ_hue=dom_hue, save_as=save_as)\n",
    "\n",
    "# Create binary spill mask\n",
    "hcol.create_bin_spill_mask(hsv_img=hsv_seg, targ_hue=dom_hue, display=True)\n"
   ],
   "id": "ce76457633f9154a",
   "outputs": [],
   "execution_count": null
  },
  {
   "metadata": {},
   "cell_type": "markdown",
   "source": "Change green spill to target skin hue",
   "id": "e01de1c397ca3fed"
  },
  {
   "metadata": {},
   "cell_type": "code",
   "source": "corrected_image = hcol.replace_spill(hsv_img=hsv_seg, targ_hue=dom_hue, display=True)\n",
   "id": "1921bb60d9034c81",
   "outputs": [],
   "execution_count": null
  },
  {
   "metadata": {},
   "cell_type": "markdown",
   "source": "Check it has improved the image",
   "id": "715680e07f8920d0"
  },
  {
   "metadata": {},
   "cell_type": "code",
   "source": [
    "corrected_image_hsv = cv2.cvtColor(corrected_image, cv2.COLOR_BGR2HSV)\n",
    "save_as = \"outputs/corrected_heatmap.png\"\n",
    "hcol.create_colour_heatmap(hsv_img=corrected_image_hsv, targ_hue=dom_hue, save_as=save_as)\n"
   ],
   "id": "a5464424fef77e99",
   "outputs": [],
   "execution_count": null
  }
 ],
 "metadata": {
  "kernelspec": {
   "display_name": "Python 3",
   "language": "python",
   "name": "python3"
  },
  "language_info": {
   "codemirror_mode": {
    "name": "ipython",
    "version": 2
   },
   "file_extension": ".py",
   "mimetype": "text/x-python",
   "name": "python",
   "nbconvert_exporter": "python",
   "pygments_lexer": "ipython2",
   "version": "2.7.6"
  }
 },
 "nbformat": 4,
 "nbformat_minor": 5
}
