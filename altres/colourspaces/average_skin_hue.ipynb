{
 "cells": [
  {
   "cell_type": "code",
   "id": "initial_id",
   "metadata": {
    "collapsed": true
   },
   "source": [
    "from Utils import *\n",
    "import cv2\n",
    "import numpy as np\n",
    "import matplotlib.pyplot as plt\n",
    "from sklearn.cluster import KMeans"
   ],
   "outputs": [],
   "execution_count": null
  },
  {
   "metadata": {},
   "cell_type": "markdown",
   "source": "Segment face",
   "id": "11e9e829531251eb"
  },
  {
   "metadata": {},
   "cell_type": "code",
   "source": [
    "# TODO: Dissect the segmented face skin image so it's just the face without saving it\n",
    "face_image_path = \"../../data/images/StockPhoto2.jpg\"\n",
    "class_indices = [2, 3]\n",
    "face_segmented = segment_face_et_al(og_img_path=face_image_path, class_indices=class_indices)\n"
   ],
   "id": "6c028467c2b6a2ac",
   "outputs": [],
   "execution_count": null
  },
  {
   "metadata": {},
   "cell_type": "markdown",
   "source": "Convert to HLS and get Hue",
   "id": "4a986b5f63f42032"
  },
  {
   "metadata": {},
   "cell_type": "code",
   "source": [
    "hls_face = cv2.cvtColor(face_segmented, cv2.COLOR_BGR2HLS)\n",
    "hue_channel = hls_face[:, :, 0]"
   ],
   "id": "db2da8d2c3cb592e",
   "outputs": [],
   "execution_count": null
  },
  {
   "metadata": {},
   "cell_type": "markdown",
   "source": "Define skin hue range and extract relevant pixels",
   "id": "79d0c943c16b0994"
  },
  {
   "metadata": {},
   "cell_type": "code",
   "source": [
    "lower_skin_hue = 0\n",
    "upper_skin_hue = 80\n",
    "\n",
    "skin_mask = (hue_channel >= lower_skin_hue) & (hue_channel <= upper_skin_hue)\n",
    "skin_pixels = hue_channel[skin_mask]"
   ],
   "id": "fe118e5afa9408ed",
   "outputs": [],
   "execution_count": null
  },
  {
   "metadata": {},
   "cell_type": "markdown",
   "source": "Calculate average hue of skin",
   "id": "c9965d6477b8d485"
  },
  {
   "metadata": {},
   "cell_type": "code",
   "source": [
    "if len(skin_pixels) > 0:\n",
    "    average_hue = np.mean(skin_pixels)\n",
    "    print(f\"Average hue: {average_hue}\")    # 6.6037\n",
    "else:\n",
    "    print(\"No skin detected\")"
   ],
   "id": "a1e9c93add157d84",
   "outputs": [],
   "execution_count": null
  },
  {
   "metadata": {},
   "cell_type": "markdown",
   "source": "Visualise skin region",
   "id": "ff0bf372663e6aa8"
  },
  {
   "metadata": {},
   "cell_type": "code",
   "source": [
    "skin_region = cv2.bitwise_and(face_segmented, face_segmented, mask=skin_mask.astype(np.uint8))\n",
    "\n",
    "plt.imshow(skin_region);"
   ],
   "id": "a5496847a958953b",
   "outputs": [],
   "execution_count": null
  }
 ],
 "metadata": {
  "kernelspec": {
   "display_name": "Python 3",
   "language": "python",
   "name": "python3"
  },
  "language_info": {
   "codemirror_mode": {
    "name": "ipython",
    "version": 2
   },
   "file_extension": ".py",
   "mimetype": "text/x-python",
   "name": "python",
   "nbconvert_exporter": "python",
   "pygments_lexer": "ipython2",
   "version": "2.7.6"
  }
 },
 "nbformat": 4,
 "nbformat_minor": 5
}
