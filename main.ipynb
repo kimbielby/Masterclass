{
 "cells": [
  {
   "cell_type": "code",
   "id": "initial_id",
   "metadata": {
    "collapsed": true
   },
   "source": [
    "import torch\n",
    "from sklearn.utils import shuffle\n",
    "from Utils import *\n",
    "from data.dataloaders.dataloader import get_dataloader as gd\n",
    "from models.model import get_model as gm\n",
    "from models import train, validate, test"
   ],
   "outputs": [],
   "execution_count": null
  },
  {
   "metadata": {},
   "cell_type": "code",
   "source": [
    "device = torch.device('cuda' if torch.cuda.is_available() else 'cpu')\n",
    "# device = \"cpu\""
   ],
   "id": "7c42a9ba60204802",
   "outputs": [],
   "execution_count": null
  },
  {
   "metadata": {},
   "cell_type": "code",
   "source": "device",
   "id": "8c6a4d0c215a87e1",
   "outputs": [],
   "execution_count": null
  },
  {
   "metadata": {},
   "cell_type": "markdown",
   "source": "Read in images as BGR",
   "id": "c6f6d3385c8d8d8"
  },
  {
   "metadata": {},
   "cell_type": "code",
   "source": [
    "gt_dir = \"./data/images/gt\"\n",
    "spill_dir = \"./data/images/spill\"\n"
   ],
   "id": "e9e81aed1413e895",
   "outputs": [],
   "execution_count": null
  },
  {
   "metadata": {},
   "cell_type": "code",
   "source": "gt_images = read_in_images_simple(directory=gt_dir)",
   "id": "2d7286e9c517056c",
   "outputs": [],
   "execution_count": null
  },
  {
   "metadata": {},
   "cell_type": "code",
   "source": "spill_images = read_in_images_simple(directory=spill_dir)\n",
   "id": "5a5548891ce4ef7c",
   "outputs": [],
   "execution_count": null
  },
  {
   "metadata": {},
   "cell_type": "code",
   "source": "print(f\"Number of ground truth images: {len(gt_images)}\")",
   "id": "dda620f414482628",
   "outputs": [],
   "execution_count": null
  },
  {
   "metadata": {},
   "cell_type": "code",
   "source": "print(f\"Number of spill images: {len(spill_images)}\")\n",
   "id": "11c4b6b337d1790",
   "outputs": [],
   "execution_count": null
  },
  {
   "metadata": {},
   "cell_type": "markdown",
   "source": "Shuffle",
   "id": "3ccf657f863810e6"
  },
  {
   "metadata": {},
   "cell_type": "code",
   "source": "gt_images, spill_images = shuffle(gt_images, spill_images)\n",
   "id": "3bb855aa4fbc32e5",
   "outputs": [],
   "execution_count": null
  },
  {
   "metadata": {},
   "cell_type": "markdown",
   "source": "Split into Train-Validate-Test",
   "id": "fe13cb0a23d64b23"
  },
  {
   "metadata": {},
   "cell_type": "code",
   "source": [
    "ds_len = len(gt_images)\n",
    "train_end_index = int(ds_len * 0.6)\n",
    "val_end_index = int(ds_len * 0.8)\n",
    "\n",
    "train_gt = gt_images[:train_end_index]\n",
    "val_gt = gt_images[train_end_index:val_end_index]\n",
    "test_gt = gt_images[val_end_index:]\n",
    "\n",
    "train_spill = spill_images[:train_end_index]\n",
    "val_spill = spill_images[train_end_index:val_end_index]\n",
    "test_spill = spill_images[val_end_index:]\n",
    "\n"
   ],
   "id": "cd7e051258f57d",
   "outputs": [],
   "execution_count": null
  },
  {
   "metadata": {},
   "cell_type": "code",
   "source": [
    "print(f\" Number of gt & spill training images: {len(train_gt)} & {len(train_spill)}\")\n",
    "print(f\" Number of gt & spill validation images: {len(val_gt)} & {len(val_spill)}\")\n",
    "print(f\" Number of gt & spill test images: {len(test_gt)} & {len(test_spill)}\")\n"
   ],
   "id": "5717a6e5e3e87238",
   "outputs": [],
   "execution_count": null
  },
  {
   "metadata": {},
   "cell_type": "markdown",
   "source": "Create dataset",
   "id": "450783b14f7bec92"
  },
  {
   "metadata": {},
   "cell_type": "code",
   "source": "use_extra_channels=False",
   "id": "c00d98fb605bab8c",
   "outputs": [],
   "execution_count": null
  },
  {
   "metadata": {},
   "cell_type": "code",
   "source": [
    "train_dataloader, num_train_batches = gd(spill_images=train_spill, gt_images=train_gt,\n",
    "                                         batch_size=32, use_extra_channels=use_extra_channels)\n",
    "val_dataloader, num_val_batches = gd(spill_images=val_spill, gt_images=val_gt,\n",
    "                                     batch_size=32, use_extra_channels=use_extra_channels)\n",
    "test_dataloader, num_test_batches = gd(spill_images=test_spill, gt_images=test_gt,\n",
    "                                       batch_size=32, use_extra_channels=use_extra_channels)"
   ],
   "id": "9a4895769a917e7d",
   "outputs": [],
   "execution_count": null
  },
  {
   "metadata": {},
   "cell_type": "code",
   "source": [
    "print(f\"Number of training images per batch: {len(train_dataloader.dataset) // num_train_batches}\")\n",
    "print(f\"Number of validation images per batch: {len(val_dataloader.dataset) // num_val_batches}\")\n",
    "print(f\"Number of test images per batch: {len(test_dataloader.dataset) // num_test_batches}\")"
   ],
   "id": "9c75dd2216c9e1c9",
   "outputs": [],
   "execution_count": null
  },
  {
   "metadata": {},
   "cell_type": "markdown",
   "source": "Get model",
   "id": "fb1848f72e6ed6fa"
  },
  {
   "metadata": {},
   "cell_type": "code",
   "source": "model = gm(device=device, in_channels=5 if use_extra_channels else 3, out_channels=3).to(device)",
   "id": "5f0aac25baae202",
   "outputs": [],
   "execution_count": null
  },
  {
   "metadata": {},
   "cell_type": "markdown",
   "source": "Run training and validation",
   "id": "2a3f0fd8b5625a5a"
  },
  {
   "metadata": {},
   "cell_type": "code",
   "source": "checkpoint_save_path = \"./models/checkpoints/spill_model_5ch.pth\" if use_extra_channels else \"./models/checkpoints/spill_model_3ch.pth\"\n",
   "id": "733ab6e286cebc26",
   "outputs": [],
   "execution_count": null
  },
  {
   "metadata": {},
   "cell_type": "code",
   "source": [
    "epochs = 3\n",
    "for epoch in range(epochs):\n",
    "    print(f\"{epoch=}\")\n",
    "    train.train(model=model, train_loader=train_dataloader, device=device)\n",
    "    validate.validate(model=model, valid_loader=val_dataloader, device=device)\n",
    "torch.save(model.state_dict(), checkpoint_save_path)"
   ],
   "id": "a90188b45b97cc38",
   "outputs": [],
   "execution_count": null
  },
  {
   "metadata": {},
   "cell_type": "markdown",
   "source": "Run testing",
   "id": "78ed276e1553bc66"
  },
  {
   "metadata": {},
   "cell_type": "code",
   "source": "test.test(test_loader=test_dataloader, model=model, device=device, checkpoint_path=checkpoint_save_path)",
   "id": "8e8fa7e8a2d36c71",
   "outputs": [],
   "execution_count": null
  },
  {
   "metadata": {},
   "cell_type": "markdown",
   "source": "Visuals",
   "id": "7275866cee216e64"
  },
  {
   "metadata": {},
   "cell_type": "code",
   "source": "plot_results()",
   "id": "9c8b5f3111297b02",
   "outputs": [],
   "execution_count": null
  }
 ],
 "metadata": {
  "kernelspec": {
   "display_name": "Python 3",
   "language": "python",
   "name": "python3"
  },
  "language_info": {
   "codemirror_mode": {
    "name": "ipython",
    "version": 2
   },
   "file_extension": ".py",
   "mimetype": "text/x-python",
   "name": "python",
   "nbconvert_exporter": "python",
   "pygments_lexer": "ipython2",
   "version": "2.7.6"
  }
 },
 "nbformat": 4,
 "nbformat_minor": 5
}
