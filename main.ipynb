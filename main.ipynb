{
 "cells": [
  {
   "metadata": {},
   "cell_type": "code",
   "source": [
    "from Utils import *\n",
    "import cv2\n"
   ],
   "id": "9fa0111d50e4b612",
   "outputs": [],
   "execution_count": null
  },
  {
   "metadata": {},
   "cell_type": "code",
   "source": [
    "image_path = \"data/images/greenspillexample.jpg\"\n",
    "class_indices = [2, 3]\n",
    "seg_img = segment_face_et_al(og_img_path=image_path, class_indices=class_indices)\n",
    "# NOTE: bin_mask and seg_img are numpy arrays"
   ],
   "id": "c6e9703abff66e4",
   "outputs": [],
   "execution_count": null
  },
  {
   "metadata": {},
   "cell_type": "code",
   "source": [
    "hls_seg = cv2.cvtColor(seg_img, cv2.COLOR_BGR2HLS)\n",
    "seg_hue = hls_seg[:, :, 0]\n",
    "create_colour_heatmap(image_hue=seg_hue)"
   ],
   "id": "c24dc993e5b1b818",
   "outputs": [],
   "execution_count": null
  },
  {
   "metadata": {},
   "cell_type": "code",
   "source": "save_img_as(fname=\"outputs/example_seg_img.jpg\", img=seg_img)",
   "id": "76d70d9b9c61ccd6",
   "outputs": [],
   "execution_count": null
  },
  {
   "metadata": {},
   "cell_type": "code",
   "source": "\n",
   "id": "5e3f9aa703e6f323",
   "outputs": [],
   "execution_count": null
  }
 ],
 "metadata": {
  "kernelspec": {
   "display_name": "Python 3",
   "language": "python",
   "name": "python3"
  },
  "language_info": {
   "codemirror_mode": {
    "name": "ipython",
    "version": 2
   },
   "file_extension": ".py",
   "mimetype": "text/x-python",
   "name": "python",
   "nbconvert_exporter": "python",
   "pygments_lexer": "ipython2",
   "version": "2.7.6"
  }
 },
 "nbformat": 4,
 "nbformat_minor": 5
}
