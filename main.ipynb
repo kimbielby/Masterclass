{
 "cells": [
  {
   "cell_type": "code",
   "id": "initial_id",
   "metadata": {
    "collapsed": true
   },
   "source": [
    "import cv2\n",
    "from sklearn.utils import shuffle\n",
    "from Utils import *\n",
    "import matplotlib.pyplot as plt"
   ],
   "outputs": [],
   "execution_count": null
  },
  {
   "metadata": {},
   "cell_type": "markdown",
   "source": "Read in images and shuffle",
   "id": "c6f6d3385c8d8d8"
  },
  {
   "metadata": {},
   "cell_type": "code",
   "source": [
    "img_folder = \"./data/images/dset/gt\"\n",
    "all_images = read_in_images_simple(folder=img_folder)\n",
    "all_images = shuffle(all_images)\n",
    "\n",
    "ds_len = len(all_images)\n",
    "train_end_index = int(ds_len * 0.8)\n",
    "val_end_index = int(ds_len * 0.9)\n",
    "\n",
    "train_gt = all_images[:train_end_index]\n",
    "val_gt = all_images[train_end_index:val_end_index]\n",
    "test_gt = all_images[val_end_index:]\n",
    "\n"
   ],
   "id": "cd7e051258f57d",
   "outputs": [],
   "execution_count": null
  },
  {
   "metadata": {},
   "cell_type": "code",
   "source": [
    "print(f\" Number of training images: {len(train_gt)}\")\n",
    "print(f\" Number of validation images: {len(val_gt)}\")\n",
    "print(f\" Number of test images: {len(test_gt)}\")\n"
   ],
   "id": "5717a6e5e3e87238",
   "outputs": [],
   "execution_count": null
  }
 ],
 "metadata": {
  "kernelspec": {
   "display_name": "Python 3",
   "language": "python",
   "name": "python3"
  },
  "language_info": {
   "codemirror_mode": {
    "name": "ipython",
    "version": 2
   },
   "file_extension": ".py",
   "mimetype": "text/x-python",
   "name": "python",
   "nbconvert_exporter": "python",
   "pygments_lexer": "ipython2",
   "version": "2.7.6"
  }
 },
 "nbformat": 4,
 "nbformat_minor": 5
}
