{
 "cells": [
  {
   "cell_type": "code",
   "id": "initial_id",
   "metadata": {
    "collapsed": true
   },
   "source": "import identify_face_etc as id\n",
   "outputs": [],
   "execution_count": null
  },
  {
   "metadata": {},
   "cell_type": "code",
   "source": [
    "image_path = \"../data/images/greenspillexample.png\"\n",
    "class_indices = [2, 3]\n",
    "bin_mask, seg_img = id.here_we_go(og_img=image_path, class_indices=class_indices)\n",
    "# NOTE: bin_mask and seg_img are numpy arrays"
   ],
   "id": "90e55e46de110ccf",
   "outputs": [],
   "execution_count": null
  },
  {
   "metadata": {},
   "cell_type": "code",
   "source": [
    "id.save_as(fname=\"bin_mask.jpg\", img=bin_mask)\n",
    "id.save_as(fname=\"seg_img.jpg\", img=seg_img)"
   ],
   "id": "36e60426140dfbc0",
   "outputs": [],
   "execution_count": null
  },
  {
   "metadata": {},
   "cell_type": "code",
   "source": "\n",
   "id": "5e3f9aa703e6f323",
   "outputs": [],
   "execution_count": null
  }
 ],
 "metadata": {
  "kernelspec": {
   "display_name": "Python 3",
   "language": "python",
   "name": "python3"
  },
  "language_info": {
   "codemirror_mode": {
    "name": "ipython",
    "version": 2
   },
   "file_extension": ".py",
   "mimetype": "text/x-python",
   "name": "python",
   "nbconvert_exporter": "python",
   "pygments_lexer": "ipython2",
   "version": "2.7.6"
  }
 },
 "nbformat": 4,
 "nbformat_minor": 5
}
