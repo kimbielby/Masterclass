{
 "cells": [
  {
   "metadata": {},
   "cell_type": "code",
   "source": [
    "\n",
    "from dataset_creation import get_mask"
   ],
   "id": "56d7f752e0dacbb1",
   "outputs": [],
   "execution_count": null
  },
  {
   "cell_type": "code",
   "id": "initial_id",
   "metadata": {
    "collapsed": true
   },
   "source": [
    "top_dir = \"../data/images/YiSitting\"\n",
    "checkpoint = \"../preprocessing/segmentation_models/SAM/sam_vit_h_4b8939.pth\"\n",
    "model_type = \"vit_h\"\n",
    "\n",
    "mask_output_dir = \"../data/outputs/masks\"\n",
    "cutout_output_dir = \"../data/outputs/cutouts\"\n",
    "background_output_dir = \"../data/outputs/backgrounds\"\n",
    "figure_output_dir = \"../data/outputs/figures\"\n",
    "\n",
    "output_path_list = [mask_output_dir, cutout_output_dir, background_output_dir, figure_output_dir]\n"
   ],
   "outputs": [],
   "execution_count": null
  },
  {
   "metadata": {},
   "cell_type": "code",
   "source": [
    "get_mask.get_mask(top_dir=top_dir,\n",
    "                  output_path_list=output_path_list,\n",
    "                  checkpoint=checkpoint,\n",
    "                  model_type=model_type)\n"
   ],
   "id": "223a91d1bd07ae7c",
   "outputs": [],
   "execution_count": null
  }
 ],
 "metadata": {
  "kernelspec": {
   "display_name": "Python 3",
   "language": "python",
   "name": "python3"
  },
  "language_info": {
   "codemirror_mode": {
    "name": "ipython",
    "version": 2
   },
   "file_extension": ".py",
   "mimetype": "text/x-python",
   "name": "python",
   "nbconvert_exporter": "python",
   "pygments_lexer": "ipython2",
   "version": "2.7.6"
  }
 },
 "nbformat": 4,
 "nbformat_minor": 5
}
