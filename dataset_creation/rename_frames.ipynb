{
 "cells": [
  {
   "cell_type": "code",
   "id": "initial_id",
   "metadata": {
    "collapsed": true
   },
   "source": "from Utils import rename_frames\n",
   "outputs": [],
   "execution_count": null
  },
  {
   "metadata": {},
   "cell_type": "code",
   "source": [
    "gt_folder = \"../data/images/gt/alex_jumping_gt\"\n",
    "spill_folder = \"../data/images/spill/alex_jumping_spill\"\n",
    "new_gt_fname = \"gt_alex_jumping\"\n",
    "new_spill_fname = \"spill_alex_jumping\"\n"
   ],
   "id": "f1870448afd62267",
   "outputs": [],
   "execution_count": null
  },
  {
   "metadata": {},
   "cell_type": "code",
   "source": "rename_frames(folder=gt_folder, new_fname=new_gt_fname)\n",
   "id": "d746bfef13e69fab",
   "outputs": [],
   "execution_count": null
  },
  {
   "metadata": {},
   "cell_type": "code",
   "source": "rename_frames(folder=spill_folder, new_fname=new_spill_fname)\n",
   "id": "25a57cf65cb738e5",
   "outputs": [],
   "execution_count": null
  }
 ],
 "metadata": {
  "kernelspec": {
   "display_name": "Python 3",
   "language": "python",
   "name": "python3"
  },
  "language_info": {
   "codemirror_mode": {
    "name": "ipython",
    "version": 2
   },
   "file_extension": ".py",
   "mimetype": "text/x-python",
   "name": "python",
   "nbconvert_exporter": "python",
   "pygments_lexer": "ipython2",
   "version": "2.7.6"
  }
 },
 "nbformat": 4,
 "nbformat_minor": 5
}
