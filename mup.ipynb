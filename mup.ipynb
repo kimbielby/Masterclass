{
 "cells": [
  {
   "cell_type": "code",
   "id": "initial_id",
   "metadata": {
    "collapsed": true
   },
   "source": [
    "import cv2\n",
    "from mediapipe.tasks import python\n",
    "import numpy as np\n",
    "import mediapipe as mp\n",
    "from mediapipe.tasks.python import vision\n",
    "import matplotlib.pyplot as plt\n",
    "from ycb import ycb_colourspace_stuff as col\n"
   ],
   "outputs": [],
   "execution_count": null
  },
  {
   "metadata": {},
   "cell_type": "markdown",
   "source": "Load image",
   "id": "e504d377af95279c"
  },
  {
   "metadata": {},
   "cell_type": "code",
   "source": [
    "image_path = \"./outputs/example_seg_img.png\"\n",
    "img_bgr = cv2.imread(image_path)\n",
    "img_rgb = cv2.cvtColor(img_bgr, cv2.COLOR_BGR2RGB)\n",
    "h, w = img_rgb.shape[:2]\n"
   ],
   "id": "2fca4c45ce7285bf",
   "outputs": [],
   "execution_count": null
  },
  {
   "metadata": {},
   "cell_type": "markdown",
   "source": "Resize for MediaPipe",
   "id": "7df0838c31c69627"
  },
  {
   "metadata": {},
   "cell_type": "code",
   "source": "input_img = cv2.resize(img_rgb, (226, 226))\n",
   "id": "2dd76113b94d0d0c",
   "outputs": [],
   "execution_count": null
  },
  {
   "metadata": {},
   "cell_type": "markdown",
   "source": "Run Segmentation Model",
   "id": "d266cd77032ec23b"
  },
  {
   "metadata": {},
   "cell_type": "code",
   "source": [
    "model_path = \"./preprocessing/models/selfie_multiclass_256x256.tflite\"\n",
    "class_indices = [2, 3]\n",
    "mp_image = mp.Image(image_format=mp.ImageFormat.SRGB, data=input_img)\n",
    "\n",
    "base_options = python.BaseOptions(model_asset_path=model_path)\n",
    "options = vision.ImageSegmenterOptions(base_options=base_options,\n",
    "                                           output_category_mask=True,\n",
    "                                           output_confidence_masks=False)\n"
   ],
   "id": "b051df9270915d57",
   "outputs": [],
   "execution_count": null
  },
  {
   "metadata": {},
   "cell_type": "code",
   "source": [
    "# Create Image Segmenter\n",
    "with vision.ImageSegmenter.create_from_options(options) as segmenter:\n",
    "    # Segment\n",
    "    segmentation_result = segmenter.segment(mp_image)\n",
    "\n"
   ],
   "id": "ce3495ab61f631ef",
   "outputs": [],
   "execution_count": null
  },
  {
   "metadata": {},
   "cell_type": "markdown",
   "source": "Get segmentation mask and resize to og image size",
   "id": "37d955ab54d343dd"
  },
  {
   "metadata": {},
   "cell_type": "code",
   "source": [
    "category_mask = segmentation_result.category_mask.numpy_view()\n",
    "cat_mask_resized = cv2.resize(src=category_mask, dsize=(w,h), interpolation=cv2.INTER_NEAREST)\n",
    "mask = np.isin(cat_mask_resized, class_indices)\n",
    "mask = mask.astype(np.float32)\n"
   ],
   "id": "399ef73a7e492792",
   "outputs": [],
   "execution_count": null
  },
  {
   "metadata": {},
   "cell_type": "code",
   "source": "print(f\"Single mask stats: Minimum value is {np.min(mask)}, Maximum value is {np.max(mask)}, Mean value is {np.mean(mask)}\")",
   "id": "e154bf54a6e6b54",
   "outputs": [],
   "execution_count": null
  },
  {
   "metadata": {},
   "cell_type": "markdown",
   "source": "Convert to YCrCb",
   "id": "e9c5678bb4530c3b"
  },
  {
   "metadata": {},
   "cell_type": "code",
   "source": [
    "img_ycrcb = cv2.cvtColor(img_bgr, cv2.COLOR_BGR2YCrCb)\n",
    "y, cr, cb = cv2.split(img_ycrcb)\n"
   ],
   "id": "cd57d37809fa5985",
   "outputs": [],
   "execution_count": null
  },
  {
   "metadata": {},
   "cell_type": "markdown",
   "source": "Create green spill mask: high Cb, low Cr",
   "id": "eacfc512c00122bf"
  },
  {
   "metadata": {},
   "cell_type": "code",
   "source": "spill_mask = ((cb > 125) & (cr < 135)).astype(np.float32)\n",
   "id": "cd5233be4a4f1bef",
   "outputs": [],
   "execution_count": null
  },
  {
   "metadata": {},
   "cell_type": "code",
   "source": "print(f\"Number of pixels in spill mask: {np.sum(spill_mask)}\")\n",
   "id": "a8e2a56c921de865",
   "outputs": [],
   "execution_count": null
  },
  {
   "metadata": {},
   "cell_type": "code",
   "source": "print(f\"Mean value of spill mask: {np.mean(spill_mask)}\")\n",
   "id": "64691dd8ba6cf6df",
   "outputs": [],
   "execution_count": null
  },
  {
   "metadata": {},
   "cell_type": "markdown",
   "source": "Combine masks: only correct where both spill and person are present",
   "id": "20c6b0f775aac2da"
  },
  {
   "metadata": {},
   "cell_type": "code",
   "source": [
    "combined_mask = mask * spill_mask\n",
    "# combined_mask = cv2.GaussianBlur(combined_mask, (7, 7), 0)\n"
   ],
   "id": "6359441cb0ccf92a",
   "outputs": [],
   "execution_count": null
  },
  {
   "metadata": {},
   "cell_type": "code",
   "source": "print(f\"Combined mask stats: Minimum value is {np.min(combined_mask)}, Maximum value is {np.max(combined_mask)}, Mean value is {np.mean(combined_mask)}\")",
   "id": "c563553a7d6c6bf5",
   "outputs": [],
   "execution_count": null
  },
  {
   "metadata": {},
   "cell_type": "markdown",
   "source": "Apply green spill correction",
   "id": "2a7d9b8da9a15824"
  },
  {
   "metadata": {},
   "cell_type": "code",
   "source": [
    "correction_strength = 2.0\n",
    "cb = cb.astype(np.float32)\n",
    "cr = cr.astype(np.float32)\n",
    "\n",
    "cb -= correction_strength * combined_mask * (cb - 128)\n",
    "cr += correction_strength * combined_mask * (128 - cr)\n",
    "\n",
    "cb = np.clip(cb, 0, 255).astype(np.uint8)\n",
    "cr = np.clip(cr, 0, 255).astype(np.uint8)"
   ],
   "id": "5bcb373da12e8fd6",
   "outputs": [],
   "execution_count": null
  },
  {
   "metadata": {},
   "cell_type": "markdown",
   "source": "Reconstruct and convert back to RGB",
   "id": "507fab3e24d1d078"
  },
  {
   "metadata": {},
   "cell_type": "code",
   "source": [
    "corrected_ycrcb = cv2.merge((y, cr, cb))\n",
    "corrected_bgr = cv2.cvtColor(corrected_ycrcb, cv2.COLOR_YCrCb2BGR)\n",
    "corrected_rgb = cv2.cvtColor(corrected_bgr, cv2.COLOR_BGR2RGB)\n"
   ],
   "id": "1dfc7828abb6c115",
   "outputs": [],
   "execution_count": null
  },
  {
   "metadata": {},
   "cell_type": "markdown",
   "source": "Display before and after green spill correction",
   "id": "311e7a6dd58c28a6"
  },
  {
   "metadata": {},
   "cell_type": "code",
   "source": [
    "plt.figure(figsize=(12, 6))\n",
    "plt.subplot(1, 2, 1)\n",
    "plt.imshow(img_rgb)\n",
    "plt.title(\"Original Image\")\n",
    "plt.axis('off')\n",
    "\n",
    "plt.subplot(1, 2, 2)\n",
    "plt.imshow(corrected_rgb)\n",
    "plt.title(\"Corrected Image\")\n",
    "plt.axis('off')\n",
    "\n",
    "plt.tight_layout()\n",
    "plt.show()\n",
    "\n"
   ],
   "id": "dff54c05c7974da0",
   "outputs": [],
   "execution_count": null
  },
  {
   "metadata": {},
   "cell_type": "markdown",
   "source": "Heatmaps",
   "id": "a7af7cc5546bb5fc"
  },
  {
   "metadata": {},
   "cell_type": "code",
   "source": [
    "total_og_green = col.quantify_green(img_ycb=img_ycrcb)\n",
    "total_corrected_green = col.quantify_green(corrected_ycrcb)"
   ],
   "id": "9343e43b8e27f3ef",
   "outputs": [],
   "execution_count": null
  },
  {
   "metadata": {},
   "cell_type": "code",
   "source": [
    "print(f\"Total OG Green: {total_og_green}\")  # 2,360\n",
    "print(f\"Total Corrected Green: {total_corrected_green}\")    # 1,977\n"
   ],
   "id": "90a46f3c690e7589",
   "outputs": [],
   "execution_count": null
  },
  {
   "metadata": {},
   "cell_type": "code",
   "source": "",
   "id": "8a793094fc4f03fa",
   "outputs": [],
   "execution_count": null
  },
  {
   "metadata": {},
   "cell_type": "code",
   "source": "# col.create_green_spill_heatmap(img_ycb=corrected_ycrcb)\n",
   "id": "717ad129b484822f",
   "outputs": [],
   "execution_count": null
  },
  {
   "metadata": {},
   "cell_type": "code",
   "source": "# col.create_green_spill_heatmap(img_ycb=img_ycrcb)\n",
   "id": "4039c73af5dc406c",
   "outputs": [],
   "execution_count": null
  }
 ],
 "metadata": {
  "kernelspec": {
   "display_name": "Python 3",
   "language": "python",
   "name": "python3"
  },
  "language_info": {
   "codemirror_mode": {
    "name": "ipython",
    "version": 2
   },
   "file_extension": ".py",
   "mimetype": "text/x-python",
   "name": "python",
   "nbconvert_exporter": "python",
   "pygments_lexer": "ipython2",
   "version": "2.7.6"
  }
 },
 "nbformat": 4,
 "nbformat_minor": 5
}
