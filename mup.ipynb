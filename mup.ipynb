{
 "cells": [
  {
   "metadata": {},
   "cell_type": "code",
   "source": [
    "import numpy as np\n",
    "import cv2\n",
    "import mediapipe as mp\n",
    "from fiftyone.utils.transformers import torch\n",
    "from mediapipe.tasks import python\n",
    "from mediapipe.tasks.python import vision\n"
   ],
   "id": "462c5d136aae1b74",
   "outputs": [],
   "execution_count": null
  },
  {
   "metadata": {},
   "cell_type": "markdown",
   "source": "Read in",
   "id": "43653a51e575cbbb"
  },
  {
   "metadata": {},
   "cell_type": "code",
   "source": [
    "img_path = \"./data/outputs/spill01_seg_img.png\"\n",
    "image_bgr = cv2.imread(img_path)\n",
    "\n",
    "# Convert to HSV and split\n",
    "img_hsv = cv2.cvtColor(image_bgr, cv2.COLOR_BGR2HSV)\n",
    "h, s, v = cv2.split(img_hsv)\n",
    "h = h.astype(np.float32) / 180.0    # Normalise hue to [0.0, 1.0]\n",
    "\n",
    "# Convert to RGB and split\n",
    "img_rgb = cv2.cvtColor(image_bgr, cv2.COLOR_BGR2RGB).astype(np.float32) / 255.0\n",
    "r, g, b = cv2.split(img_rgb)\n",
    "\n",
    "# Compute greenness: G - max(R, B), then clip to [0.0, 1.0]\n",
    "greenness = g - np.maximum(r, b)\n",
    "greenness = np.clip(greenness, 0.0, 1.0)\n",
    "\n",
    "input_tensor = np.stack([r, g, b, h, greenness], axis=-1)   # Shape: (H, W, 5), dtype: float32\n",
    "img_tensor = torch.tensor(input_tensor).permute(2, 0, 1).unsqueeze(0)   # Shape: (1, 5, H, W)\n"
   ],
   "id": "a8ff18312721e3d4",
   "outputs": [],
   "execution_count": null
  }
 ],
 "metadata": {
  "kernelspec": {
   "display_name": "Python 3",
   "language": "python",
   "name": "python3"
  },
  "language_info": {
   "codemirror_mode": {
    "name": "ipython",
    "version": 2
   },
   "file_extension": ".py",
   "mimetype": "text/x-python",
   "name": "python",
   "nbconvert_exporter": "python",
   "pygments_lexer": "ipython2",
   "version": "2.7.6"
  }
 },
 "nbformat": 4,
 "nbformat_minor": 5
}
