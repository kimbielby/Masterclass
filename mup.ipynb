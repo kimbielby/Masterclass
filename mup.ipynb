{
 "cells": [
  {
   "cell_type": "code",
   "id": "initial_id",
   "metadata": {
    "collapsed": true
   },
   "source": [
    "from Utils import *\n",
    "import cv2\n",
    "from pathlib import Path"
   ],
   "outputs": [],
   "execution_count": null
  },
  {
   "metadata": {},
   "cell_type": "code",
   "source": [
    "face_image_path = \"data/images/StockPhoto3.jpg\"\n",
    "class_indices = [2, 3]\n",
    "face_segmented = segment_face_et_al(og_img_path=face_image_path, class_indices=class_indices)"
   ],
   "id": "2fca4c45ce7285bf",
   "outputs": [],
   "execution_count": null
  },
  {
   "metadata": {},
   "cell_type": "code",
   "source": [
    "hls_face = cv2.cvtColor(face_segmented, cv2.COLOR_BGR2HLS)\n",
    "hue = hls_face[:, :, 0]"
   ],
   "id": "f1327aca6126f2c7",
   "outputs": [],
   "execution_count": null
  },
  {
   "metadata": {},
   "cell_type": "code",
   "source": [
    "# TODO: sort out function in colourspace_stuff\n",
    "create_colour_heatmap(image_hue=hue, targ_hue=13.37, display=True)\n"
   ],
   "id": "66679a8395a02656",
   "outputs": [],
   "execution_count": null
  }
 ],
 "metadata": {
  "kernelspec": {
   "display_name": "Python 3",
   "language": "python",
   "name": "python3"
  },
  "language_info": {
   "codemirror_mode": {
    "name": "ipython",
    "version": 2
   },
   "file_extension": ".py",
   "mimetype": "text/x-python",
   "name": "python",
   "nbconvert_exporter": "python",
   "pygments_lexer": "ipython2",
   "version": "2.7.6"
  }
 },
 "nbformat": 4,
 "nbformat_minor": 5
}
