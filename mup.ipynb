{
 "cells": [
  {
   "metadata": {},
   "cell_type": "code",
   "source": [
    "import os\n",
    "from preprocessing.dset_creation import is_mostly_greyscale, get_results_list\n",
    "import pandas as pd\n"
   ],
   "id": "462c5d136aae1b74",
   "outputs": [],
   "execution_count": null
  },
  {
   "metadata": {},
   "cell_type": "code",
   "source": [
    "image_dir = \"./data/images/dset\"\n",
    "\n",
    "# Loop through each image and remove greyscale or sepia images\n",
    "for filename in os.listdir(image_dir):\n",
    "    filepath = os.path.join(image_dir, filename)\n",
    "\n",
    "    result = is_mostly_greyscale(filepath)\n",
    "    if result:\n",
    "        print(f\"Removing mostly greyscale image: {filepath}\")\n",
    "        os.remove(filepath)\n"
   ],
   "id": "9bbb2b9ad5de9379",
   "outputs": [],
   "execution_count": null
  },
  {
   "metadata": {},
   "cell_type": "code",
   "source": [
    "result_list = get_results_list()\n",
    "df = pd.DataFrame(result_list)\n",
    "df\n"
   ],
   "id": "c8900a1743b49347",
   "outputs": [],
   "execution_count": null
  },
  {
   "metadata": {},
   "cell_type": "code",
   "source": [
    "filename_to_check = \"28389251_1.jpg\"\n",
    "is_true = df.loc[\n",
    "    (df['filename'] == filename_to_check) & (df['is_mostly_grey']),\n",
    "]\n",
    "if not is_true.empty:\n",
    "    print(f\"{filename_to_check} IS mostly greyscale\")\n",
    "# else:\n",
    "#     print(f\"{filename_to_check} is NOT mostly greyscale\")\n",
    "\n"
   ],
   "id": "8107bab1deb893ec",
   "outputs": [],
   "execution_count": null
  }
 ],
 "metadata": {
  "kernelspec": {
   "display_name": "Python 3",
   "language": "python",
   "name": "python3"
  },
  "language_info": {
   "codemirror_mode": {
    "name": "ipython",
    "version": 2
   },
   "file_extension": ".py",
   "mimetype": "text/x-python",
   "name": "python",
   "nbconvert_exporter": "python",
   "pygments_lexer": "ipython2",
   "version": "2.7.6"
  }
 },
 "nbformat": 4,
 "nbformat_minor": 5
}
