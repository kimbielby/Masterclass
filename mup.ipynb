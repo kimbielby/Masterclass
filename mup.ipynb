{
 "cells": [
  {
   "cell_type": "code",
   "id": "initial_id",
   "metadata": {
    "collapsed": true,
    "ExecuteTime": {
     "end_time": "2025-07-09T16:44:20.960795Z",
     "start_time": "2025-07-09T16:44:20.687765Z"
    }
   },
   "source": [
    "import cv2\n",
    "\n"
   ],
   "outputs": [],
   "execution_count": 1
  },
  {
   "metadata": {
    "ExecuteTime": {
     "end_time": "2025-07-09T16:44:21.009238Z",
     "start_time": "2025-07-09T16:44:20.963315Z"
    }
   },
   "cell_type": "code",
   "source": [
    "img = cv2.imread(\"despilled.png\")\n",
    "img.shape"
   ],
   "id": "7214e857f4287bbb",
   "outputs": [
    {
     "data": {
      "text/plain": [
       "(2160, 3840, 3)"
      ]
     },
     "execution_count": 2,
     "metadata": {},
     "output_type": "execute_result"
    }
   ],
   "execution_count": 2
  },
  {
   "metadata": {
    "ExecuteTime": {
     "end_time": "2025-07-09T16:49:00.812576Z",
     "start_time": "2025-07-09T16:49:00.800810Z"
    }
   },
   "cell_type": "code",
   "source": [
    "b, g, r = cv2.split(img)\n",
    "print(f\"Blue channel min/max: {b.min()}, {b.max()}\")\n",
    "print(f\"Green channel min/max: {g.min()}, {g.max()}\")\n",
    "print(f\"Red channel min/max: {r.min()}, {r.max()}\")"
   ],
   "id": "a5a6d58f1ad7e718",
   "outputs": [
    {
     "name": "stdout",
     "output_type": "stream",
     "text": [
      "Blue channel min/max: 60, 255\n",
      "Green channel min/max: 62, 255\n",
      "Red channel min/max: 61, 255\n"
     ]
    }
   ],
   "execution_count": 3
  },
  {
   "metadata": {},
   "cell_type": "code",
   "outputs": [],
   "execution_count": null,
   "source": "",
   "id": "53fdaea1b2af02a"
  }
 ],
 "metadata": {
  "kernelspec": {
   "display_name": "Python 3",
   "language": "python",
   "name": "python3"
  },
  "language_info": {
   "codemirror_mode": {
    "name": "ipython",
    "version": 2
   },
   "file_extension": ".py",
   "mimetype": "text/x-python",
   "name": "python",
   "nbconvert_exporter": "python",
   "pygments_lexer": "ipython2",
   "version": "2.7.6"
  }
 },
 "nbformat": 4,
 "nbformat_minor": 5
}
