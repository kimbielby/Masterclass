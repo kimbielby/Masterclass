{
 "cells": [
  {
   "cell_type": "code",
   "id": "initial_id",
   "metadata": {
    "collapsed": true
   },
   "source": [
    "from Utils import *\n",
    "import cv2\n",
    "from pathlib import Path"
   ],
   "outputs": [],
   "execution_count": null
  },
  {
   "metadata": {},
   "cell_type": "code",
   "source": [
    "face_image_path = \"./data/images/greenspillexample.jpg\"\n",
    "class_indices = [2, 3]\n",
    "face_segmented = segment_face_et_al(og_img_path=face_image_path, class_indices=class_indices)"
   ],
   "id": "2fca4c45ce7285bf",
   "outputs": [],
   "execution_count": null
  },
  {
   "metadata": {},
   "cell_type": "code",
   "source": "hsv_face = cv2.cvtColor(face_segmented, cv2.COLOR_BGR2HSV)\n",
   "id": "f1327aca6126f2c7",
   "outputs": [],
   "execution_count": null
  },
  {
   "metadata": {},
   "cell_type": "code",
   "source": [
    "# TODO: sort out function in colourspace_stuff\n",
    "create_colour_heatmap(hsv_img=hsv_face, targ_hue=13.37, display=True)\n"
   ],
   "id": "66679a8395a02656",
   "outputs": [],
   "execution_count": null
  },
  {
   "metadata": {},
   "cell_type": "code",
   "source": "create_bin_spill_mask(hsv_img=hsv_face, targ_hue=13.37)\n",
   "id": "2ce4dfbfb3fab056",
   "outputs": [],
   "execution_count": null
  },
  {
   "metadata": {},
   "cell_type": "code",
   "source": "replace_spill(hsv_img=hsv_face, targ_hue=16.23)\n",
   "id": "d62f0cdfcf0e2f38",
   "outputs": [],
   "execution_count": null
  },
  {
   "metadata": {},
   "cell_type": "code",
   "source": [
    "# TODO: heatmaps show the corrected image is worse than og\n",
    "corr_img_path = \"./outputs/corrected_image.png\"\n",
    "og_img_path = \"./data/images/greenspillexample.jpg\"\n",
    "class_ind = [2, 3]\n",
    "face_seg_corr = segment_face_et_al(og_img_path=corr_img_path, class_indices=class_ind)\n",
    "face_seg_og =segment_face_et_al(og_img_path=og_img_path, class_indices=class_ind)\n",
    "\n",
    "hsv_corr = cv2.cvtColor(face_seg_corr, cv2.COLOR_BGR2HSV)\n",
    "hsv_og = cv2.cvtColor(face_seg_og, cv2.COLOR_BGR2HSV)\n",
    "\n",
    "create_colour_heatmap(hsv_img=hsv_corr, targ_hue=16.23, save_as=\"outputs/corr_heatmap.png\")\n",
    "create_colour_heatmap(hsv_img=hsv_og, targ_hue=16.23, save_as=\"outputs/og_heatmap.png\")\n"
   ],
   "id": "686af6be1e3e3c34",
   "outputs": [],
   "execution_count": null
  }
 ],
 "metadata": {
  "kernelspec": {
   "display_name": "Python 3",
   "language": "python",
   "name": "python3"
  },
  "language_info": {
   "codemirror_mode": {
    "name": "ipython",
    "version": 2
   },
   "file_extension": ".py",
   "mimetype": "text/x-python",
   "name": "python",
   "nbconvert_exporter": "python",
   "pygments_lexer": "ipython2",
   "version": "2.7.6"
  }
 },
 "nbformat": 4,
 "nbformat_minor": 5
}
