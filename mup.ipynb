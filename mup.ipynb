{
 "cells": [
  {
   "metadata": {},
   "cell_type": "code",
   "source": [
    "import numpy as np\n",
    "import cv2\n",
    "import mediapipe as mp\n",
    "from mediapipe.tasks import python\n",
    "from mediapipe.tasks.python import vision\n"
   ],
   "id": "462c5d136aae1b74",
   "outputs": [],
   "execution_count": null
  },
  {
   "metadata": {},
   "cell_type": "markdown",
   "source": "Read in",
   "id": "43653a51e575cbbb"
  },
  {
   "metadata": {},
   "cell_type": "code",
   "source": [
    "img_path = \"./data/images/dset/gt/img_0006_gt.jpg\"\n",
    "image_bgr = cv2.imread(img_path)\n",
    "img_rgb = cv2.cvtColor(image_bgr, cv2.COLOR_BGR2RGB)\n"
   ],
   "id": "a8ff18312721e3d4",
   "outputs": [],
   "execution_count": null
  },
  {
   "metadata": {},
   "cell_type": "markdown",
   "source": "Segment and Spill",
   "id": "352504f6397be00f"
  },
  {
   "metadata": {},
   "cell_type": "code",
   "source": [
    "seg_model = \"./preprocessing/models/selfie_segmenter.tflite\"\n",
    "mp_image = mp.Image(image_format=mp.ImageFormat.SRGB, data=img_rgb)\n",
    "\n",
    "base_options = python.BaseOptions(model_asset_path=seg_model)\n",
    "options = vision.ImageSegmenterOptions(base_options=base_options,\n",
    "                                       output_category_mask=False,\n",
    "                                       output_confidence_masks=True)\n",
    "\n",
    "with vision.ImageSegmenter.create_from_options(options=options) as segmenter:\n",
    "    result = segmenter.segment(image=mp_image)\n",
    "    mask = result.confidence_masks[0].numpy_view()  # Shape: [H, W], values 0.0 - 1.0\n",
    "\n"
   ],
   "id": "90fb3edecf40432c",
   "outputs": [],
   "execution_count": null
  },
  {
   "metadata": {},
   "cell_type": "code",
   "source": "print(type(mask))",
   "id": "a60c30ab7bd6898f",
   "outputs": [],
   "execution_count": null
  },
  {
   "metadata": {},
   "cell_type": "code",
   "source": [
    "spill_strength = 0.4\n",
    "saturation_boost = 18\n",
    "threshold = 0.3\n",
    "blur_kernel = (21, 21)\n",
    "# Need Confidence mask (mask) and bgr image (image_bgr)\n"
   ],
   "id": "a330292cf0993a53",
   "outputs": [],
   "execution_count": null
  },
  {
   "metadata": {},
   "cell_type": "code",
   "source": [
    "# Binarise the confidence mask\n",
    "foreground_mask = (mask > threshold).astype(np.uint8)\n",
    "\n",
    "# Create edge mask\n",
    "edge_mask = cv2.distanceTransform(1 - foreground_mask.astype(np.uint8), cv2.DIST_L2, 3)\n",
    "edge_mask = cv2.normalize(edge_mask, None, 0, 1.0, cv2.NORM_MINMAX)\n",
    "\n",
    "# Invert distance so that edges = 1, centre = 0\n",
    "spill_mask = 1.0 - edge_mask\n",
    "spill_mask = np.clip(spill_mask, 0, 1)\n",
    "\n",
    "# Blur to create soft transition\n",
    "spill_mask = cv2.GaussianBlur(spill_mask, blur_kernel, 0)\n",
    "\n",
    "# Steepen falloff to reduce inner-body spill\n",
    "spill_mask = np.power(spill_mask, 2.5)\n",
    "\n",
    "# Mask out everything outside the person\n",
    "spill_mask *= foreground_mask.astype(np.float32)\n",
    "\n",
    "# Convert image to HSV\n",
    "hsv = cv2.cvtColor(image_bgr, cv2.COLOR_BGR2HSV)\n",
    "h, s, v = cv2.split(hsv)\n",
    "\n",
    "# Convert hue to float\n",
    "h_float = h.astype(np.float32)\n",
    "\n",
    "# Red suppression\n",
    "dist_to_red = np.minimum(np.abs(h_float - 0), np.abs(h_float - 179))\n",
    "red_suppression = np.clip(dist_to_red / 20.0, 0.0, 1.0)\n",
    "spill_mask *= red_suppression\n",
    "\n",
    "# Apply hue shift to green and boost saturation near edges\n",
    "delta = (60 - h_float + 90) % 180 - 90\n",
    "h_blended = h_float + spill_mask * delta * 0.4\n",
    "h_new = np.clip(h_blended, 0 , 179).astype(np.uint8)\n",
    "\n",
    "# Saturation boost\n",
    "s_boost = (spill_mask * saturation_boost).astype(np.uint8)\n",
    "s_new = np.clip(s + s_boost, 0, 255)\n",
    "\n",
    "# Merge channels and convert back to BGR\n",
    "hsv_spill = cv2.merge([h_new, s_new, v])\n",
    "bgr_spill = cv2.cvtColor(hsv_spill, cv2.COLOR_HSV2BGR)\n",
    "\n",
    "cv2.imwrite(\"person_with_spill9.jpg\", bgr_spill)\n",
    "\n"
   ],
   "id": "146ff1714340f3f9",
   "outputs": [],
   "execution_count": null
  }
 ],
 "metadata": {
  "kernelspec": {
   "display_name": "Python 3",
   "language": "python",
   "name": "python3"
  },
  "language_info": {
   "codemirror_mode": {
    "name": "ipython",
    "version": 2
   },
   "file_extension": ".py",
   "mimetype": "text/x-python",
   "name": "python",
   "nbconvert_exporter": "python",
   "pygments_lexer": "ipython2",
   "version": "2.7.6"
  }
 },
 "nbformat": 4,
 "nbformat_minor": 5
}
