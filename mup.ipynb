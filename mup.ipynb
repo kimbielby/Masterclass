{
 "cells": [
  {
   "cell_type": "code",
   "id": "initial_id",
   "metadata": {
    "collapsed": true
   },
   "source": "from Utils import *\n",
   "outputs": [],
   "execution_count": null
  },
  {
   "metadata": {},
   "cell_type": "code",
   "source": [
    "hue = 5\n",
    "sat = 183\n",
    "lum = 62\n",
    "\n",
    "hue, sat, lum = convert_hsl_opencv_to_standard(hue_cv2=hue, sat_cv2=sat, lum_cv2=lum)\n",
    "\n",
    "save_as = \"./outputs/hue.png\"\n",
    "display_solid_hue(hue=hue, sat=sat, lum=lum, save_as=save_as)\n"
   ],
   "id": "2fca4c45ce7285bf",
   "outputs": [],
   "execution_count": null
  }
 ],
 "metadata": {
  "kernelspec": {
   "display_name": "Python 3",
   "language": "python",
   "name": "python3"
  },
  "language_info": {
   "codemirror_mode": {
    "name": "ipython",
    "version": 2
   },
   "file_extension": ".py",
   "mimetype": "text/x-python",
   "name": "python",
   "nbconvert_exporter": "python",
   "pygments_lexer": "ipython2",
   "version": "2.7.6"
  }
 },
 "nbformat": 4,
 "nbformat_minor": 5
}
