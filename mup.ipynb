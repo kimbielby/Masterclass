{
 "cells": [
  {
   "cell_type": "code",
   "id": "initial_id",
   "metadata": {
    "collapsed": true,
    "ExecuteTime": {
     "end_time": "2025-04-11T16:25:36.609845Z",
     "start_time": "2025-04-11T16:25:36.337643Z"
    }
   },
   "source": [
    "import os\n",
    "import cv2\n"
   ],
   "outputs": [],
   "execution_count": 1
  },
  {
   "metadata": {},
   "cell_type": "code",
   "source": [
    "img = cv2.imread(\"data/images/wynonnaearp.jpg\")\n",
    "img.shape"
   ],
   "id": "2fca4c45ce7285bf",
   "outputs": [],
   "execution_count": null
  },
  {
   "metadata": {
    "ExecuteTime": {
     "end_time": "2025-04-11T16:25:38.395754Z",
     "start_time": "2025-04-11T16:25:38.393748Z"
    }
   },
   "cell_type": "code",
   "source": [
    "path = \"outputs/example_seg_img.jpg\"\n",
    "print(f\"File exists: {os.path.exists(path)}\")"
   ],
   "id": "dfcd377f37c1b53f",
   "outputs": [
    {
     "name": "stdout",
     "output_type": "stream",
     "text": [
      "File exists: True\n"
     ]
    }
   ],
   "execution_count": 2
  },
  {
   "metadata": {
    "ExecuteTime": {
     "end_time": "2025-04-11T16:26:12.569511Z",
     "start_time": "2025-04-11T16:26:12.565688Z"
    }
   },
   "cell_type": "code",
   "source": [
    "img = cv2.imread(path)\n",
    "if img is None:\n",
    "    print(\"Image not found\")\n",
    "else:\n",
    "    print(\"Image loaded\")\n",
    "\n"
   ],
   "id": "d039b4d768bb6c8a",
   "outputs": [
    {
     "name": "stdout",
     "output_type": "stream",
     "text": [
      "Image loaded\n"
     ]
    }
   ],
   "execution_count": 3
  }
 ],
 "metadata": {
  "kernelspec": {
   "display_name": "Python 3",
   "language": "python",
   "name": "python3"
  },
  "language_info": {
   "codemirror_mode": {
    "name": "ipython",
    "version": 2
   },
   "file_extension": ".py",
   "mimetype": "text/x-python",
   "name": "python",
   "nbconvert_exporter": "python",
   "pygments_lexer": "ipython2",
   "version": "2.7.6"
  }
 },
 "nbformat": 4,
 "nbformat_minor": 5
}
