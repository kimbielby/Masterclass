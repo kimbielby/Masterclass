{
 "cells": [
  {
   "cell_type": "code",
   "id": "initial_id",
   "metadata": {
    "collapsed": true
   },
   "source": [
    "import cv2\n",
    "import mediapipe as mp\n",
    "from mediapipe.tasks import python\n",
    "from mediapipe.tasks.python import vision\n",
    "import matplotlib.pyplot as plt\n",
    "import numpy as np\n",
    "\n"
   ],
   "outputs": [],
   "execution_count": null
  },
  {
   "metadata": {},
   "cell_type": "code",
   "source": [
    "BG_COLOUR = (192, 192, 192) # grey\n",
    "MASK_COLOUR = (255, 255, 255)   # white"
   ],
   "id": "5dd7def0f835516",
   "outputs": [],
   "execution_count": null
  },
  {
   "metadata": {},
   "cell_type": "markdown",
   "source": "Options",
   "id": "d5328d6dc0401149"
  },
  {
   "metadata": {},
   "cell_type": "code",
   "source": [
    "model_path = \"models/selfie_segmenter_landscape.tflite\"\n",
    "base_options = python.BaseOptions(model_asset_path = model_path)\n",
    "options = vision.ImageSegmenterOptions(base_options=base_options,\n",
    "                                       output_category_mask=True, output_confidence_masks=False)"
   ],
   "id": "24c516a95c3c76b9",
   "outputs": [],
   "execution_count": null
  },
  {
   "metadata": {},
   "cell_type": "markdown",
   "source": "Create segmenter",
   "id": "ab416fd9d28abc6f"
  },
  {
   "metadata": {},
   "cell_type": "code",
   "source": [
    "with vision.ImageSegmenter.create_from_options(options=options) as segmenter:\n",
    "    input_image = mp.Image.create_from_file(\n",
    "        \"data/images/20201124_142837.jpg\")\n",
    "\n",
    "    segmentation_result = segmenter.segment(input_image)\n",
    "    category_mask = segmentation_result.category_mask\n",
    "\n",
    "    image_data = input_image.numpy_view()\n",
    "    fg_image = np.zeros(image_data.shape, dtype=np.uint8)\n",
    "    fg_image[:] = MASK_COLOUR\n",
    "    bg_image = np.zeros(image_data.shape, dtype=np.uint8)\n",
    "    bg_image[:] = BG_COLOUR\n",
    "\n",
    "    condition = np.stack((category_mask.numpy_view(),) * 3, axis=-1) > 0.2\n",
    "    output_image = np.where(condition, fg_image, bg_image)\n"
   ],
   "id": "11ff3be010e0a831",
   "outputs": [],
   "execution_count": null
  },
  {
   "metadata": {},
   "cell_type": "code",
   "source": "plt.imshow(output_image);",
   "id": "9cb99d4d75d900d6",
   "outputs": [],
   "execution_count": null
  }
 ],
 "metadata": {
  "kernelspec": {
   "display_name": "Python 3",
   "language": "python",
   "name": "python3"
  },
  "language_info": {
   "codemirror_mode": {
    "name": "ipython",
    "version": 2
   },
   "file_extension": ".py",
   "mimetype": "text/x-python",
   "name": "python",
   "nbconvert_exporter": "python",
   "pygments_lexer": "ipython2",
   "version": "2.7.6"
  }
 },
 "nbformat": 4,
 "nbformat_minor": 5
}
