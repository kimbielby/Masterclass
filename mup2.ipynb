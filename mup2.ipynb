{
 "cells": [
  {
   "cell_type": "code",
   "id": "initial_id",
   "metadata": {
    "collapsed": true
   },
   "source": [
    "import cv2\n",
    "import numpy as np\n",
    "import matplotlib.pyplot as plt\n",
    "from ycb import ycb_colourspace_stuff as col\n",
    "# TODO: See gpt about detecting skin tone in ycb\n"
   ],
   "outputs": [],
   "execution_count": null
  },
  {
   "metadata": {},
   "cell_type": "markdown",
   "source": "Load image",
   "id": "fc958e0cce4a9f63"
  },
  {
   "metadata": {},
   "cell_type": "code",
   "source": [
    "image_path = \"./outputs/example_seg_img.png\"\n",
    "img_bgr = cv2.imread(image_path)\n",
    "img_rgb = cv2.cvtColor(img_bgr, cv2.COLOR_BGR2RGB)\n",
    "image_ycb = cv2.cvtColor(img_bgr, cv2.COLOR_BGR2YCrCb)\n",
    "y, cr, cb = cv2.split(image_ycb)\n",
    "cb = cb.astype(np.float32)\n",
    "cr = cr.astype(np.float32)\n"
   ],
   "id": "e5e006ff8407c5db",
   "outputs": [],
   "execution_count": null
  },
  {
   "metadata": {},
   "cell_type": "markdown",
   "source": "Detect greenish pixels",
   "id": "9f441651a5506abb"
  },
  {
   "metadata": {},
   "cell_type": "code",
   "source": [
    "spill_mask = ((cb > 120) & (cr < 150)).astype(np.float32)\n",
    "spill_mask = cv2.GaussianBlur(spill_mask, (7, 7), 0)\n"
   ],
   "id": "61087cfeb28e45b9",
   "outputs": [],
   "execution_count": null
  },
  {
   "metadata": {},
   "cell_type": "code",
   "source": "print(f\"Green spill coverage: {np.mean(spill_mask) * 100:.2f}%\")",
   "id": "fa2be03ba77d5d9",
   "outputs": [],
   "execution_count": null
  },
  {
   "metadata": {},
   "cell_type": "markdown",
   "source": "Apply correction globally",
   "id": "6d2df89496f4d5b0"
  },
  {
   "metadata": {},
   "cell_type": "code",
   "source": [
    "correction_strength = 2.0\n",
    "cb -= correction_strength * spill_mask * (cb - 128)\n",
    "cr += correction_strength * spill_mask * (128 - cr)\n"
   ],
   "id": "49f798eec0e5371b",
   "outputs": [],
   "execution_count": null
  },
  {
   "metadata": {},
   "cell_type": "markdown",
   "source": "Clip and convert back",
   "id": "206d66284ae4dbbc"
  },
  {
   "metadata": {},
   "cell_type": "code",
   "source": [
    "cb = np.clip(cb, 0, 255).astype(np.uint8)\n",
    "cr = np.clip(cr, 0, 255).astype(np.uint8)\n",
    "\n",
    "corrected_ycb = cv2.merge((y, cr, cb))\n",
    "corrected_bgr = cv2.cvtColor(corrected_ycb, cv2.COLOR_YCrCb2BGR)\n",
    "corrected_rgb = cv2.cvtColor(corrected_bgr, cv2.COLOR_BGR2RGB)\n"
   ],
   "id": "6e5464f97580ed8a",
   "outputs": [],
   "execution_count": null
  },
  {
   "metadata": {},
   "cell_type": "markdown",
   "source": "Display before and after green spill correction",
   "id": "166db1a44755630e"
  },
  {
   "metadata": {},
   "cell_type": "code",
   "source": [
    "plt.figure(figsize=(12, 6))\n",
    "plt.subplot(1, 2, 1)\n",
    "plt.imshow(img_rgb)\n",
    "plt.title(\"Original Image\")\n",
    "plt.axis('off')\n",
    "\n",
    "plt.subplot(1, 2, 2)\n",
    "plt.imshow(corrected_rgb)\n",
    "plt.title(\"Corrected Image\")\n",
    "plt.axis('off')\n",
    "\n",
    "plt.tight_layout()\n",
    "plt.show()"
   ],
   "id": "827e0589de40efc8",
   "outputs": [],
   "execution_count": null
  },
  {
   "metadata": {},
   "cell_type": "markdown",
   "source": "Calculate green",
   "id": "3673f17526af5942"
  },
  {
   "metadata": {},
   "cell_type": "code",
   "source": [
    "total_og_green = col.quantify_green(img_ycb=image_ycb)\n",
    "total_corrected_green = col.quantify_green(corrected_ycb)\n"
   ],
   "id": "1762e2529a3eb861",
   "outputs": [],
   "execution_count": null
  },
  {
   "metadata": {},
   "cell_type": "code",
   "source": [
    "print(f\"Total OG Green: {total_og_green}\")  # 2,360\n",
    "print(f\"Total Corrected Green: {total_corrected_green}\")    # 27\n"
   ],
   "id": "97df84d8ccc0b828",
   "outputs": [],
   "execution_count": null
  }
 ],
 "metadata": {
  "kernelspec": {
   "display_name": "Python 3",
   "language": "python",
   "name": "python3"
  },
  "language_info": {
   "codemirror_mode": {
    "name": "ipython",
    "version": 2
   },
   "file_extension": ".py",
   "mimetype": "text/x-python",
   "name": "python",
   "nbconvert_exporter": "python",
   "pygments_lexer": "ipython2",
   "version": "2.7.6"
  }
 },
 "nbformat": 4,
 "nbformat_minor": 5
}
