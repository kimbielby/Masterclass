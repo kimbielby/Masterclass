{
 "cells": [
  {
   "cell_type": "code",
   "id": "initial_id",
   "metadata": {
    "collapsed": true
   },
   "source": [
    "import cv2\n",
    "import numpy as np\n",
    "import matplotlib.pyplot as plt\n",
    "# TODO: See gpt for Skin Tone Detection..."
   ],
   "outputs": [],
   "execution_count": null
  },
  {
   "metadata": {},
   "cell_type": "markdown",
   "source": "Load image and convert to different colour spaces",
   "id": "fac8419b33290357"
  },
  {
   "metadata": {},
   "cell_type": "code",
   "source": [
    "# Convert from BGR to YCrCb\n",
    "img_bgr = cv2.imread(\"./outputs/spill01_seg_img.png\")\n",
    "img_ycrcb = cv2.cvtColor(img_bgr, cv2.COLOR_BGR2YCrCb)\n",
    "y, cr, cb = cv2.split(img_ycrcb)\n",
    "# Skin detection mask based on Cr and Cb\n",
    "skin_mask = cv2.inRange(img_ycrcb, (0, 133, 77), (255, 173, 127))\n",
    "# Detect where green is significantly stronger than red and blue\n",
    "b, g, r = cv2.split(img_bgr)\n",
    "green_spill = (g > r + 30) & (g > b + 30)\n",
    "# Reduce Cb\n",
    "cb_corrected = cb.copy()\n",
    "cb_corrected[green_spill] = np.clip(cb_corrected[green_spill] - 10, 0, 255)\n",
    "# Recompute skin mask with corrected Cb\n",
    "corrected_skin_mask = ((cr >= 133) & (cr <= 173)) & ((cb_corrected >= 77) & (cb_corrected <= 127))\n",
    "corrected_skin_mask = corrected_skin_mask.astype(np.uint8) * 255\n",
    "# Clean up mask with  morphological ops\n",
    "the_kernel = cv2.getStructuringElement(cv2.MORPH_ELLIPSE, (5, 5))\n",
    "cleaned_mask = cv2.morphologyEx(corrected_skin_mask, cv2.MORPH_CLOSE, the_kernel, iterations=2)\n",
    "cleaned_mask = cv2.morphologyEx(cleaned_mask, cv2.MORPH_CLOSE, the_kernel, iterations=2)\n"
   ],
   "id": "3117c30b434ad484",
   "outputs": [],
   "execution_count": null
  },
  {
   "metadata": {},
   "cell_type": "code",
   "source": "plt.imshow(cleaned_mask)\n",
   "id": "4338372d2639ba75",
   "outputs": [],
   "execution_count": null
  }
 ],
 "metadata": {
  "kernelspec": {
   "display_name": "Python 3",
   "language": "python",
   "name": "python3"
  },
  "language_info": {
   "codemirror_mode": {
    "name": "ipython",
    "version": 2
   },
   "file_extension": ".py",
   "mimetype": "text/x-python",
   "name": "python",
   "nbconvert_exporter": "python",
   "pygments_lexer": "ipython2",
   "version": "2.7.6"
  }
 },
 "nbformat": 4,
 "nbformat_minor": 5
}
