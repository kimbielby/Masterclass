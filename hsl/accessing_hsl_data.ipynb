{
 "cells": [
  {
   "metadata": {},
   "cell_type": "code",
   "outputs": [],
   "execution_count": null,
   "source": [
    "import numpy as np\n",
    "import cv2\n",
    "from preprocessing import identify_face_etc as iden "
   ],
   "id": "984d085d1399ce66"
  },
  {
   "metadata": {},
   "cell_type": "markdown",
   "source": "Segment",
   "id": "2c883579e742c1e3"
  },
  {
   "metadata": {},
   "cell_type": "code",
   "outputs": [],
   "execution_count": null,
   "source": [
    "image_path = \"../data/images/20201124_142837.jpg\"\n",
    "seg_img = iden.segment_face_et_al(og_img_path=image_path)\n"
   ],
   "id": "20c212fdc5b61783"
  },
  {
   "metadata": {},
   "cell_type": "markdown",
   "source": "Skin mask",
   "id": "cd909597736a6c73"
  },
  {
   "metadata": {
    "ExecuteTime": {
     "end_time": "2025-04-16T13:47:12.275804Z",
     "start_time": "2025-04-16T13:47:12.268873Z"
    }
   },
   "cell_type": "code",
   "source": [
    "hsv_seg = cv2.cvtColor(seg_img, cv2.COLOR_BGR2HSV)  # HSV\n",
    "hls_seg = cv2.cvtColor(seg_img, cv2.COLOR_BGR2HLS)    # HLS\n",
    "hue, lum, sat = cv2.split(hls_seg)  # Hue, Luminosity, Saturation\n",
    "\n",
    "lower = np.array([0, 180, 35])           # Hue, Luminosity, Saturation\n",
    "upper = np.array([25, 255, 90])     # Hue, Luminosity, Saturation\n",
    "skin_mask = cv2.inRange(hls_seg, lower, upper)\n",
    "skin_pixels = hls_seg[skin_mask > 0]\n"
   ],
   "id": "9a19177fb0de29a2",
   "outputs": [],
   "execution_count": 3
  },
  {
   "metadata": {},
   "cell_type": "markdown",
   "source": "Access HSL data",
   "id": "2f0b4d1b608632a7"
  },
  {
   "metadata": {
    "ExecuteTime": {
     "end_time": "2025-04-16T13:47:12.314306Z",
     "start_time": "2025-04-16T13:47:12.311102Z"
    }
   },
   "cell_type": "code",
   "source": "skin_pixels.shape",
   "id": "4882c8781fa3196f",
   "outputs": [
    {
     "data": {
      "text/plain": [
       "(1656, 3)"
      ]
     },
     "execution_count": 4,
     "metadata": {},
     "output_type": "execute_result"
    }
   ],
   "execution_count": 4
  },
  {
   "metadata": {
    "ExecuteTime": {
     "end_time": "2025-04-16T14:06:28.043728Z",
     "start_time": "2025-04-16T14:06:28.041712Z"
    }
   },
   "cell_type": "code",
   "source": "skin_pixels[500]    # Hue, Luminosity, Saturation",
   "id": "2788ec6c750ddee4",
   "outputs": [
    {
     "data": {
      "text/plain": [
       "array([  5, 183,  62], dtype=uint8)"
      ]
     },
     "execution_count": 7,
     "metadata": {},
     "output_type": "execute_result"
    }
   ],
   "execution_count": 7
  }
 ],
 "metadata": {
  "kernelspec": {
   "display_name": "Python 3",
   "language": "python",
   "name": "python3"
  },
  "language_info": {
   "codemirror_mode": {
    "name": "ipython",
    "version": 2
   },
   "file_extension": ".py",
   "mimetype": "text/x-python",
   "name": "python",
   "nbconvert_exporter": "python",
   "pygments_lexer": "ipython2",
   "version": "2.7.6"
  }
 },
 "nbformat": 4,
 "nbformat_minor": 5
}
