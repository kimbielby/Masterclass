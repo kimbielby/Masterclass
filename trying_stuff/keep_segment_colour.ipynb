{
 "cells": [
  {
   "cell_type": "code",
   "id": "initial_id",
   "metadata": {
    "collapsed": true
   },
   "source": [
    "import cv2\n",
    "import mediapipe as mp\n",
    "from mediapipe.tasks import python\n",
    "from mediapipe.tasks.python import vision\n",
    "import numpy as np"
   ],
   "outputs": [],
   "execution_count": null
  },
  {
   "metadata": {},
   "cell_type": "code",
   "source": [
    "# Load image\n",
    "image = cv2.imread('../data/images/greenspillexample.jpg')\n",
    "image_rgb = cv2.cvtColor(image, cv2.COLOR_BGR2RGB)\n"
   ],
   "id": "2738b1b51e3f3efc",
   "outputs": [],
   "execution_count": null
  },
  {
   "metadata": {},
   "cell_type": "code",
   "source": [
    "# Create options for segmenter\n",
    "model_path = \"../models/selfie_multiclass_256x256.tflite\"\n",
    "base_options = python.BaseOptions(model_asset_path=model_path)\n",
    "options = vision.ImageSegmenterOptions(base_options=base_options,\n",
    "                                       output_category_mask=True,\n",
    "                                       output_confidence_masks=False)\n"
   ],
   "id": "4b44a16179ee02ef",
   "outputs": [],
   "execution_count": null
  },
  {
   "metadata": {},
   "cell_type": "code",
   "source": [
    "# Create segmenter\n",
    "with vision.ImageSegmenter.create_from_options(options=options) as segmenter:\n",
    "    # Load input image\n",
    "    input_image = mp.Image(image_format=mp.ImageFormat.SRGB, data=image_rgb)\n",
    "    # Segment\n",
    "    segmentation_result = segmenter.segment(input_image)\n",
    "    # Access category mask\n",
    "    category_mask = segmentation_result.category_mask.numpy_view()  # shape: (256, 256)\n"
   ],
   "id": "2d720f8f28f7cdb0",
   "outputs": [],
   "execution_count": null
  },
  {
   "metadata": {},
   "cell_type": "code",
   "source": [
    "# Resize mask to og size\n",
    "category_mask_resized = cv2.resize(category_mask,\n",
    "                                   (image.shape[1], image.shape[0]),\n",
    "                                   interpolation=cv2.INTER_NEAREST)\n"
   ],
   "id": "43b0fe1580b1f7dc",
   "outputs": [],
   "execution_count": null
  },
  {
   "metadata": {},
   "cell_type": "code",
   "source": [
    "# Choose which classes to keep\n",
    "target_classes = [2, 3]\n",
    "mask = np.isin(category_mask_resized, target_classes)\n"
   ],
   "id": "4ac4c91e8273004b",
   "outputs": [],
   "execution_count": null
  },
  {
   "metadata": {},
   "cell_type": "code",
   "source": [
    "# Apply mask to og image\n",
    "mask_3ch = np.stack([mask]*3, axis=-1)\n",
    "output_image = np.where(mask_3ch, image, 0)\n",
    "\n",
    "# Save colour-segemented result\n",
    "cv2.imwrite('../outputs/segmented_face_skin.png', output_image)\n"
   ],
   "id": "afa4304044e97139",
   "outputs": [],
   "execution_count": null
  }
 ],
 "metadata": {
  "kernelspec": {
   "display_name": "Python 3",
   "language": "python",
   "name": "python3"
  },
  "language_info": {
   "codemirror_mode": {
    "name": "ipython",
    "version": 2
   },
   "file_extension": ".py",
   "mimetype": "text/x-python",
   "name": "python",
   "nbconvert_exporter": "python",
   "pygments_lexer": "ipython2",
   "version": "2.7.6"
  }
 },
 "nbformat": 4,
 "nbformat_minor": 5
}
