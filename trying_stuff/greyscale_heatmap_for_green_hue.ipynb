{
 "cells": [
  {
   "metadata": {},
   "cell_type": "markdown",
   "source": [
    "Greyscale heatmap that shows the level of green hue in an image.\n",
    "\n",
    "Lighter areas are closer to green hue, darker areas are further away from it"
   ],
   "id": "dce0dc210ec17a5e"
  },
  {
   "cell_type": "code",
   "id": "initial_id",
   "metadata": {
    "collapsed": true
   },
   "source": [
    "import cv2\n",
    "import numpy as np\n",
    "import matplotlib.pyplot as plt\n"
   ],
   "outputs": [],
   "execution_count": null
  },
  {
   "metadata": {},
   "cell_type": "code",
   "source": [
    "image = cv2.imread(\"../data/images/StockPhoto1.jpg\")\n",
    "hls_image = cv2.cvtColor(image, cv2.COLOR_BGR2HLS)\n",
    "hue = hls_image[:,:,0]\n",
    "\n",
    "# Define target green hue (around 60)\n",
    "green_hue = 60\n",
    "\n",
    "# Calc distance from green hue\n",
    "hue_distance = np.abs(hue.astype(np.int16) - green_hue)\n",
    "hue_distance = np.minimum(hue_distance, 180 - hue_distance)     # wrap-around correction\n",
    "\n",
    "# Invert to get \"greenness\": lower distance means more green\n",
    "green_level = 180 - hue_distance.astype(np.uint8)\n",
    "\n",
    "# Normalise to 0-255 for display\n",
    "green_level_normalised = cv2.normalize(green_level, None, 0, 255, cv2.NORM_MINMAX)\n",
    "\n"
   ],
   "id": "4336a716026b3191",
   "outputs": [],
   "execution_count": null
  },
  {
   "metadata": {},
   "cell_type": "code",
   "source": "plt.imshow(green_level_normalised);",
   "id": "dd1bc80ace16de7d",
   "outputs": [],
   "execution_count": null
  },
  {
   "metadata": {},
   "cell_type": "code",
   "source": "cv2.imwrite(\"../outputs/Greyscale Heatmap for Green Hue.png\", green_level_normalised)",
   "id": "e8226ee67587c7bc",
   "outputs": [],
   "execution_count": null
  }
 ],
 "metadata": {
  "kernelspec": {
   "display_name": "Python 3",
   "language": "python",
   "name": "python3"
  },
  "language_info": {
   "codemirror_mode": {
    "name": "ipython",
    "version": 2
   },
   "file_extension": ".py",
   "mimetype": "text/x-python",
   "name": "python",
   "nbconvert_exporter": "python",
   "pygments_lexer": "ipython2",
   "version": "2.7.6"
  }
 },
 "nbformat": 4,
 "nbformat_minor": 5
}
