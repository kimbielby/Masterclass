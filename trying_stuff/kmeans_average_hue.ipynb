{
 "cells": [
  {
   "cell_type": "code",
   "id": "initial_id",
   "metadata": {
    "collapsed": true
   },
   "source": [
    "from sklearn.cluster import KMeans\n",
    "from  sklearn.metrics import silhouette_score\n",
    "from Utils import *\n",
    "import cv2\n",
    "import numpy as np\n",
    "import matplotlib.pyplot as plt"
   ],
   "outputs": [],
   "execution_count": null
  },
  {
   "metadata": {},
   "cell_type": "markdown",
   "source": "Segment face",
   "id": "e44a1f9eb39f2cb7"
  },
  {
   "metadata": {},
   "cell_type": "code",
   "source": [
    "face_image_path = \"../data/images/StockPhoto3.jpg\"\n",
    "class_indices = [2, 3]\n",
    "face_segmented = segment_face_et_al(og_img_path=face_image_path, class_indices=class_indices)"
   ],
   "id": "bdf73d932f53b57d",
   "outputs": [],
   "execution_count": null
  },
  {
   "metadata": {},
   "cell_type": "markdown",
   "source": "Convert to HLS and get Hue, Luminosity and Saturation",
   "id": "3d9f8c9b62b81b23"
  },
  {
   "metadata": {},
   "cell_type": "code",
   "source": [
    "hls_face = cv2.cvtColor(face_segmented, cv2.COLOR_BGR2HLS)\n",
    "hue = hls_face[:, :, 0]     # Hue\n",
    "lum = hls_face[:, :, 1]     # Luminance\n",
    "sat = hls_face[:, :, 2]      # Saturation\n"
   ],
   "id": "1327c8f75f95d1dd",
   "outputs": [],
   "execution_count": null
  },
  {
   "metadata": {},
   "cell_type": "markdown",
   "source": "Define HLS ranges to produce a skin mask",
   "id": "c04224974d85e55e"
  },
  {
   "metadata": {},
   "cell_type": "code",
   "source": [
    "skin_mask = (\n",
    "    (hue >= 0) & (hue <= 80) &\n",
    "    (lum >= 40) & (lum <= 220) &\n",
    "    (sat >= 20) & (sat <= 255)\n",
    ")\n",
    "\n",
    "skin_pixels = hls_face[skin_mask]\n"
   ],
   "id": "6ab04b7980a87923",
   "outputs": [],
   "execution_count": null
  },
  {
   "metadata": {},
   "cell_type": "markdown",
   "source": "Get KMeans Silhouette score",
   "id": "c79174a68ff84d17"
  },
  {
   "metadata": {},
   "cell_type": "code",
   "source": [
    "sil_scores = []\n",
    "\n",
    "k_range = range(2, 10)\n",
    "\n",
    "for k in k_range:\n",
    "    kmeans = KMeans(n_clusters=k, n_init=10)\n",
    "    labels = kmeans.fit_predict(skin_pixels)\n",
    "    score = silhouette_score(skin_pixels, labels)\n",
    "    sil_scores.append(score)\n",
    "\n",
    "# Get ideal k clusters\n",
    "best_index = np.argmax(sil_scores)\n",
    "best_k = list(k_range)[best_index]\n",
    "print(f\"Best k: {best_k}\")\n"
   ],
   "id": "265549a25843c6aa",
   "outputs": [],
   "execution_count": null
  },
  {
   "metadata": {},
   "cell_type": "code",
   "source": [
    "# Plot silhouette scores\n",
    "plt.plot(k_range, sil_scores, 'go-')\n",
    "plt.xlabel('Number of clusters')\n",
    "plt.ylabel('Silhouette score')\n",
    "plt.title('Optimal cluster count via Silhouette')\n",
    "plt.grid(True)\n",
    "plt.show()"
   ],
   "id": "6c81e7bb379464c5",
   "outputs": [],
   "execution_count": null
  },
  {
   "metadata": {},
   "cell_type": "markdown",
   "source": "Get skin tones",
   "id": "852e97c402892331"
  },
  {
   "metadata": {},
   "cell_type": "code",
   "source": [
    "# Run KMeans\n",
    "kmeans = KMeans(n_clusters=best_k, n_init=10)\n",
    "kmeans.fit(skin_pixels)\n",
    "\n",
    "# Get cluster centres\n",
    "centres = kmeans.cluster_centers_\n",
    "labels = kmeans.labels_\n",
    "label_counts = np.bincount(labels)\n",
    "hue_centres = centres[:, 0]     # Just hue channel\n",
    "\n",
    "# Get dominant cluster (based on most pixels)\n",
    "dominant_idx = labels[np.argmax(label_counts)]\n",
    "dominant_hue = hue_centres[dominant_idx]\n",
    "\n",
    "print(f\"Dominant skin hue: {dominant_hue :.2f}\")    # 16.07"
   ],
   "id": "1221cad11a73629f",
   "outputs": [],
   "execution_count": null
  },
  {
   "metadata": {},
   "cell_type": "markdown",
   "source": "Bin values",
   "id": "2374671ebbbceaaf"
  },
  {
   "metadata": {},
   "cell_type": "code",
   "source": [
    "bins = np.linspace(0, 180, 19)  # 18 bins of 10 degrees\n",
    "bin_labels = np.digitize(hue_centres, bins) - 1\n",
    "\n",
    "# Initialise bin weights (same length as bins minus 1)\n",
    "bin_weights = np.zeros(len(bins) - 1)\n",
    "\n",
    "# Add cluster weights to their corresponding bin\n",
    "for i, bin_index in enumerate(bin_labels):\n",
    "    if 0 <= bin_index < len(bin_weights):\n",
    "        bin_weights[bin_index] += label_counts[i]\n",
    "\n"
   ],
   "id": "9068a5a50a5039c1",
   "outputs": [],
   "execution_count": null
  },
  {
   "metadata": {},
   "cell_type": "markdown",
   "source": "Plot histogram",
   "id": "86980df4c1ca4d8a"
  },
  {
   "metadata": {},
   "cell_type": "code",
   "source": [
    "plt.bar(bins[:-1], bin_weights, width=10, color='coral', edgecolor='black', align='edge')\n",
    "plt.title(\"Hue Distribution by KMeans Clusters\")\n",
    "plt.xlabel(\"Hue (HLS)\")\n",
    "plt.ylabel(\"Weighted Pixel Count\")\n",
    "plt.grid(True)\n",
    "plt.show()"
   ],
   "id": "20a84490ea77427",
   "outputs": [],
   "execution_count": null
  }
 ],
 "metadata": {
  "kernelspec": {
   "display_name": "Python 3",
   "language": "python",
   "name": "python3"
  },
  "language_info": {
   "codemirror_mode": {
    "name": "ipython",
    "version": 2
   },
   "file_extension": ".py",
   "mimetype": "text/x-python",
   "name": "python",
   "nbconvert_exporter": "python",
   "pygments_lexer": "ipython2",
   "version": "2.7.6"
  }
 },
 "nbformat": 4,
 "nbformat_minor": 5
}
