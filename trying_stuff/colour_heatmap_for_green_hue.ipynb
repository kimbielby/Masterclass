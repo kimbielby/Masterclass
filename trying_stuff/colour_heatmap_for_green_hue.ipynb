{
 "cells": [
  {
   "metadata": {},
   "cell_type": "markdown",
   "source": [
    "Colourscale heatmap that shows the level of green hue in each pixel of an image.\n",
    "- Areas closer to green (low distance) are blue\n",
    "- Areas further from green (high distance) are red\n"
   ],
   "id": "77f5aeadaf372d83"
  },
  {
   "cell_type": "code",
   "id": "initial_id",
   "metadata": {
    "collapsed": true
   },
   "source": [
    "import cv2\n",
    "import numpy as np\n",
    "import matplotlib.pyplot as plt\n"
   ],
   "outputs": [],
   "execution_count": null
  },
  {
   "metadata": {},
   "cell_type": "code",
   "source": [
    "# Read in image\n",
    "image = cv2.imread(\"../outputs/segmented_face_skin.png\")\n",
    "# Convert to HLS colour space\n",
    "hls = cv2.cvtColor(image, cv2.COLOR_BGR2HLS)\n",
    "# Extract the hue channel\n",
    "hue = hls[:,:,0]\n",
    "\n",
    "# Define target green hue (around 60)\n",
    "green_hue = 60\n",
    "\n",
    "# Calc distance from green hue\n",
    "hue_distance = np.abs(hue.astype(np.int16) - green_hue)\n",
    "hue_distance = np.minimum(hue_distance, 180 - hue_distance)     # wrap-around correction\n",
    "\n",
    "# Normalise the distance to [0, 255] range\n",
    "normalised_hue_distance = cv2.normalize(hue_distance, None, 0, 255, cv2.NORM_MINMAX)\n",
    "\n",
    "# Apply a colour map to visualise the distance as a coloured heatmap\n",
    "coloured_heatmap = cv2.applyColorMap(normalised_hue_distance.astype(np.uint8), cv2.COLORMAP_JET)\n",
    "\n",
    "# Show the heatmap\n",
    "plt.imshow(coloured_heatmap)\n",
    "\n",
    "# Save the heatmap\n",
    "cv2.imwrite('../outputs/green_hue_heatmap.png', coloured_heatmap)\n"
   ],
   "id": "ab570e6c2737be59",
   "outputs": [],
   "execution_count": null
  }
 ],
 "metadata": {
  "kernelspec": {
   "display_name": "Python 3",
   "language": "python",
   "name": "python3"
  },
  "language_info": {
   "codemirror_mode": {
    "name": "ipython",
    "version": 2
   },
   "file_extension": ".py",
   "mimetype": "text/x-python",
   "name": "python",
   "nbconvert_exporter": "python",
   "pygments_lexer": "ipython2",
   "version": "2.7.6"
  }
 },
 "nbformat": 4,
 "nbformat_minor": 5
}
