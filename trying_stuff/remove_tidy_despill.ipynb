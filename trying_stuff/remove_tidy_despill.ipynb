{
 "cells": [
  {
   "cell_type": "code",
   "id": "initial_id",
   "metadata": {
    "collapsed": true
   },
   "source": [
    "import cv2\n",
    "import numpy as np\n",
    "import matplotlib.pyplot as plt"
   ],
   "outputs": [],
   "execution_count": null
  },
  {
   "metadata": {},
   "cell_type": "markdown",
   "source": "Read in og image and change to HLS",
   "id": "d88ce0a6db4c1ebe"
  },
  {
   "metadata": {},
   "cell_type": "code",
   "source": [
    "image1 = cv2.imread('../data/images/StockPhoto1.jpg')\n",
    "hls_image = cv2.cvtColor(image1, cv2.COLOR_BGR2HLS)"
   ],
   "id": "51d3625a79feb737",
   "outputs": [],
   "execution_count": null
  },
  {
   "metadata": {},
   "cell_type": "markdown",
   "source": "Remove green screen",
   "id": "59fbaaef8c75491e"
  },
  {
   "metadata": {},
   "cell_type": "code",
   "source": [
    "# Define green hue range in HLS\n",
    "lower_green = np.array([35, 40, 40])        # H, L, S\n",
    "upper_green = np.array([85, 255, 255])\n",
    "\n",
    "# Create a mask where green pixels are white\n",
    "green_mask = cv2.inRange(hls_image, lower_green, upper_green)\n",
    "\n",
    "# Invert mask to keep everything that's NOT green\n",
    "mask_no_green = cv2.bitwise_not(green_mask)\n",
    "\n",
    "# Use the inverted mask to extract non-green parts of the image\n",
    "result = cv2.bitwise_and(image1, image1, mask=mask_no_green)\n",
    "\n",
    "# OPTIONAL: Make green pixels fully transparent (RGBA output)\n",
    "result_rgba = cv2.cvtColor(result, cv2.COLOR_BGR2BGRA)\n",
    "result_rgba[green_mask == 255] = [0, 0, 0, 0]   # Set green areas to transparent\n",
    "\n",
    "# Save image as rgba\n",
    "cv2.imwrite('../outputs/removed_greenscreen.png', result_rgba)"
   ],
   "id": "ef899e0feecc6ecc",
   "outputs": [],
   "execution_count": null
  },
  {
   "metadata": {},
   "cell_type": "markdown",
   "source": "Read in new image and change to HLS",
   "id": "93c3bd77b2e0cc4"
  },
  {
   "metadata": {},
   "cell_type": "code",
   "source": [
    "image2 = cv2.imread('../outputs/removed_greenscreen.png')\n",
    "hls = cv2.cvtColor(image2, cv2.COLOR_BGR2HLS)"
   ],
   "id": "cd8903354a87ba3d",
   "outputs": [],
   "execution_count": null
  },
  {
   "metadata": {},
   "cell_type": "markdown",
   "source": "Detect subtle greens",
   "id": "7701a664f96a2ebf"
  },
  {
   "metadata": {},
   "cell_type": "code",
   "source": [
    "hue, lightness, saturation = cv2.split(hls)\n",
    "\n",
    "# Green spill detection: greenish hue, low saturation, green dominance\n",
    "green_hue = 60\n",
    "hue_distance = np.abs(hue.astype(np.int16) - green_hue)\n",
    "hue_distance = np.minimum(hue_distance, 180 - hue_distance)\n",
    "greenness = 180 - hue_distance.astype(np.uint8)\n",
    "\n",
    "# Mask for subtle green spill\n",
    "_, spill_mask = cv2.threshold(greenness, 150, 255, cv2.THRESH_BINARY)\n"
   ],
   "id": "e0a3fe6339bee794",
   "outputs": [],
   "execution_count": null
  },
  {
   "metadata": {},
   "cell_type": "markdown",
   "source": "Clean up the edges (Despill)",
   "id": "9cd1775ae73c3234"
  },
  {
   "metadata": {},
   "cell_type": "code",
   "source": [
    "# Convert image to float32 for precise edits\n",
    "image_float = image2.astype(np.float32)\n",
    "\n",
    "# Apply spill factor (modify green channel)\n",
    "spill_factor = 0.0  # Lower the number, the harsher the green removal is\n",
    "image_float[:, :, 1][spill_mask == 255] *= spill_factor # green channel\n",
    "\n",
    "# Clip and convert back\n",
    "despilled = np.clip(image_float, 0, 255).astype(np.uint8)\n",
    "cv2.imwrite('../outputs/despilled.png', despilled)"
   ],
   "id": "922beaef0ff88bf3",
   "outputs": [],
   "execution_count": null
  }
 ],
 "metadata": {
  "kernelspec": {
   "display_name": "Python 3",
   "language": "python",
   "name": "python3"
  },
  "language_info": {
   "codemirror_mode": {
    "name": "ipython",
    "version": 2
   },
   "file_extension": ".py",
   "mimetype": "text/x-python",
   "name": "python",
   "nbconvert_exporter": "python",
   "pygments_lexer": "ipython2",
   "version": "2.7.6"
  }
 },
 "nbformat": 4,
 "nbformat_minor": 5
}
