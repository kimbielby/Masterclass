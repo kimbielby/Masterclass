{
 "cells": [
  {
   "cell_type": "code",
   "id": "initial_id",
   "metadata": {
    "collapsed": true
   },
   "source": [
    "import cv2\n",
    "import numpy as np\n",
    "import matplotlib.pyplot as plt"
   ],
   "outputs": [],
   "execution_count": null
  },
  {
   "metadata": {},
   "cell_type": "code",
   "source": [
    "# Load image with green screen\n",
    "image = cv2.imread('../data/images/StockPhoto1.jpg')\n",
    "hls = cv2.cvtColor(image, cv2.COLOR_BGR2HLS)\n",
    "\n",
    "# Define green hue range in HLS\n",
    "lower_green = np.array([35, 40, 40])        # H, L, S\n",
    "upper_green = np.array([85, 255, 255])\n",
    "\n",
    "# Create a mask where green pixels are white\n",
    "green_mask = cv2.inRange(hls, lower_green, upper_green)\n",
    "\n",
    "# Invert mask to keep everything that's NOT green\n",
    "mask_no_green = cv2.bitwise_not(green_mask)\n",
    "\n",
    "# Use the inverted mask to extract non-green parts of the image\n",
    "result = cv2.bitwise_and(image, image, mask=mask_no_green)\n"
   ],
   "id": "42f7cc55cb6cd594",
   "outputs": [],
   "execution_count": null
  },
  {
   "metadata": {},
   "cell_type": "code",
   "outputs": [],
   "execution_count": null,
   "source": [
    "# OPTIONAL: Make green pixels fully transparent (RGBA output)\n",
    "result_rgba = cv2.cvtColor(result, cv2.COLOR_BGR2BGRA)\n",
    "result_rgba[green_mask == 255] = [0, 0, 0, 0]   # Set green areas to transparent\n"
   ],
   "id": "4427c5364aec8b5f"
  },
  {
   "metadata": {},
   "cell_type": "code",
   "outputs": [],
   "execution_count": null,
   "source": [
    "# Save and show\n",
    "cv2.imwrite('removed_greenscreen.png', result_rgba)\n",
    "plt.imshow(result_rgba)"
   ],
   "id": "ec06158d67e9aaa0"
  }
 ],
 "metadata": {
  "kernelspec": {
   "display_name": "Python 3",
   "language": "python",
   "name": "python3"
  },
  "language_info": {
   "codemirror_mode": {
    "name": "ipython",
    "version": 2
   },
   "file_extension": ".py",
   "mimetype": "text/x-python",
   "name": "python",
   "nbconvert_exporter": "python",
   "pygments_lexer": "ipython2",
   "version": "2.7.6"
  }
 },
 "nbformat": 4,
 "nbformat_minor": 5
}
