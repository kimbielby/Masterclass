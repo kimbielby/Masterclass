{
 "cells": [
  {
   "cell_type": "code",
   "id": "initial_id",
   "metadata": {
    "collapsed": true
   },
   "source": [
    "import cv2\n",
    "import matplotlib.pyplot as plt\n",
    "import numpy as np"
   ],
   "outputs": [],
   "execution_count": null
  },
  {
   "metadata": {},
   "cell_type": "markdown",
   "source": "Create histogram",
   "id": "bcff95878f5974"
  },
  {
   "metadata": {},
   "cell_type": "code",
   "source": [
    "# Load image\n",
    "image = cv2.imread(\"../data/images/20201124_142837.jpg\")\n",
    "image_rgb = cv2.cvtColor(image, cv2.COLOR_BGR2RGB)\n",
    "\n",
    "# Convert from BGR to HLS\n",
    "image_hls = cv2.cvtColor(image, cv2.COLOR_BGR2HLS)\n",
    "\n",
    "# Extract Hue channel\n",
    "hue_channel = image_hls[:, :, 0]        # OpenCV stores H in 0th index\n",
    "\n",
    "# Compute histogram of Hue channel\n",
    "hist = cv2.calcHist([hue_channel], [0], None, [180], [0, 180])      # 180 bins for Hue\n",
    "\n",
    "# Normalise histogram to fit image height\n",
    "hist = hist / hist.max() * image.shape[0]\n",
    "\n",
    "# Create overlay image for histogram\n",
    "hist_overlay = np.zeros_like(image)\n"
   ],
   "id": "782bcc987e712a31",
   "outputs": [],
   "execution_count": null
  },
  {
   "metadata": {},
   "cell_type": "markdown",
   "source": "Draw histogram over image",
   "id": "7e34e655204b41e1"
  },
  {
   "metadata": {},
   "cell_type": "code",
   "source": [
    "# Draw histogram as vertical line plot\n",
    "for h in range(180):\n",
    "    cv2.line(\n",
    "        hist_overlay,\n",
    "        (h * (image.shape[1] // 180), image.shape[0]),\n",
    "        (h * (image.shape[1] // 180), int(image.shape[0] - hist[h])),\n",
    "        (255, 0, 0), thickness=2)\n",
    "\n",
    "overlayed_image = cv2.addWeighted(image_rgb, 0.7, hist_overlay, 0.3, 0)\n",
    "\n",
    "# Display histogram over image\n",
    "plt.imshow(overlayed_image)"
   ],
   "id": "2a9da8b31ecd43f1",
   "outputs": [],
   "execution_count": null
  },
  {
   "metadata": {},
   "cell_type": "markdown",
   "source": "Visualise Hue scale",
   "id": "eeb99fdc243eb398"
  },
  {
   "metadata": {},
   "cell_type": "code",
   "source": [
    "# Create 180 x 50 image where each pixel represents a different hue\n",
    "hue_scale = np.zeros((50, 180, 3), dtype=np.uint8)\n",
    "\n",
    "for i in range(180):\n",
    "    hue_scale[:, i] = [i, 255, 255]      # Hue, Max Saturation, Max Lightness\n",
    "\n",
    "# Convert from HLS to RGB for display\n",
    "hue_scale_rgb = cv2.cvtColor(hue_scale, cv2.COLOR_HSV2RGB)\n",
    "\n",
    "# Plot hue scale\n",
    "plt.imshow(hue_scale_rgb)\n",
    "plt.xticks([0, 30, 60, 90, 120, 150, 180], ['Red', 'Yellow', 'Green', 'Cyan', 'Blue', 'Magenta', 'Red'])\n",
    "plt.yticks([])\n",
    "plt.title(\"Hue Bin to Colour Mapping\")\n",
    "plt.show()"
   ],
   "id": "5195df5a10c58efa",
   "outputs": [],
   "execution_count": null
  },
  {
   "metadata": {},
   "cell_type": "markdown",
   "source": "Display Histogram of Image in HLS colourspace",
   "id": "a0ceadf880d85735"
  },
  {
   "metadata": {},
   "cell_type": "code",
   "source": [
    "plt.plot(hist, color='r')\n",
    "plt.title('Histogram of Hue')\n",
    "plt.xlabel('Hue Value')\n",
    "plt.ylabel('Frequency')\n",
    "plt.xticks([0, 30, 60, 90, 120, 150, 180], ['Red', 'Yellow', 'Green', 'Cyan', 'Blue', 'Magenta', 'Red'])\n",
    "plt.xlim([0, 180])      # Hue values range from 0 to 180 in OpenCV\n",
    "plt.grid()\n",
    "plt.show()"
   ],
   "id": "4cdf46d6dc3c4ae5",
   "outputs": [],
   "execution_count": null
  }
 ],
 "metadata": {
  "kernelspec": {
   "display_name": "Python 3",
   "language": "python",
   "name": "python3"
  },
  "language_info": {
   "codemirror_mode": {
    "name": "ipython",
    "version": 2
   },
   "file_extension": ".py",
   "mimetype": "text/x-python",
   "name": "python",
   "nbconvert_exporter": "python",
   "pygments_lexer": "ipython2",
   "version": "2.7.6"
  }
 },
 "nbformat": 4,
 "nbformat_minor": 5
}
