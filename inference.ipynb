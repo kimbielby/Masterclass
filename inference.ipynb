{
 "cells": [
  {
   "cell_type": "code",
   "id": "initial_id",
   "metadata": {
    "collapsed": true
   },
   "source": [
    "import  inference\n",
    "import cv2\n",
    "from preprocessing import add_colourspaces as prep\n",
    "import numpy as np\n",
    "import torch\n",
    "from models.model import get_model as gm\n",
    "# from Utils import get_simple_search_filepaths as rin\n",
    "from Utils import get_simple_image_filepaths as rin"
   ],
   "outputs": [],
   "execution_count": null
  },
  {
   "metadata": {},
   "cell_type": "code",
   "source": [
    "# device = torch.device(\"cuda:0\" if torch.cuda.is_available() else \"cpu\")\n",
    "device = \"cpu\""
   ],
   "id": "cd0b5799c5d5df46",
   "outputs": [],
   "execution_count": null
  },
  {
   "metadata": {},
   "cell_type": "code",
   "source": [
    "checkpoint = torch.load(\"spill_model_1.pth\", map_location=device)\n",
    "model = gm(device=device, in_channels=3, out_channels=3).to(device)\n",
    "model.load_state_dict(checkpoint)\n",
    "model.eval()"
   ],
   "id": "21ef962cbad2789b",
   "outputs": [],
   "execution_count": null
  },
  {
   "metadata": {},
   "cell_type": "code",
   "source": [
    "# directory = \"./data/images/spill\"\n",
    "directory = \"/home/s5727767/Documents/Coursework/Semester2/Masterclass/Green_Spill_Dataset/GreenSceneSeq/Motions/Alex Walking Colour Adjusted\"\n",
    "search_term = \"jenny_s\"\n",
    "# image_filepaths_list = rin(directory=directory, search_term=search_term)\n",
    "image_filepaths_list = rin(directory=directory)\n",
    "save_as_name_base = \"./data/outputs/despilled/despilled_alex_walking_\"\n",
    "for i in range(len(image_filepaths_list)):\n",
    "    img_path = image_filepaths_list[i]\n",
    "    save_as_name = f\"{save_as_name_base}{i}.png\"\n",
    "    inference.infer(img_path=img_path, model=model, device=device, output_path=save_as_name)\n"
   ],
   "id": "3c5593fca1f5868d",
   "outputs": [],
   "execution_count": null
  }
 ],
 "metadata": {
  "kernelspec": {
   "display_name": "Python 3",
   "language": "python",
   "name": "python3"
  },
  "language_info": {
   "codemirror_mode": {
    "name": "ipython",
    "version": 2
   },
   "file_extension": ".py",
   "mimetype": "text/x-python",
   "name": "python",
   "nbconvert_exporter": "python",
   "pygments_lexer": "ipython2",
   "version": "2.7.6"
  }
 },
 "nbformat": 4,
 "nbformat_minor": 5
}
