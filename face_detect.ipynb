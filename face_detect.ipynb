{
 "cells": [
  {
   "cell_type": "code",
   "id": "initial_id",
   "metadata": {
    "collapsed": true
   },
   "source": [
    "import cv2\n",
    "import matplotlib.pyplot as plt\n",
    "import numpy as np\n",
    "import mediapipe as mp\n",
    "from mediapipe.tasks import python\n",
    "from mediapipe.tasks.python import vision\n"
   ],
   "outputs": [],
   "execution_count": null
  },
  {
   "metadata": {},
   "cell_type": "markdown",
   "source": "Visualise",
   "id": "b85b3a18fb627492"
  },
  {
   "metadata": {},
   "cell_type": "code",
   "source": [
    "from typing import Tuple, Union\n",
    "import math\n",
    "\n",
    "MARGIN = 10  # pixels\n",
    "ROW_SIZE = 10  # pixels\n",
    "FONT_SIZE = 1\n",
    "FONT_THICKNESS = 1\n",
    "TEXT_COLOR = (255, 0, 0)  # red\n",
    "\n",
    "\n",
    "def _normalized_to_pixel_coordinates(\n",
    "        normalized_x: float, normalized_y: float, image_width: int,\n",
    "        image_height: int) -> Union[None, Tuple[int, int]]:\n",
    "    \"\"\"Converts normalized value pair to pixel coordinates.\"\"\"\n",
    "\n",
    "    # Checks if the float value is between 0 and 1.\n",
    "    def is_valid_normalized_value(value: float) -> bool:\n",
    "        return (value > 0 or math.isclose(0, value)) and (value < 1 or\n",
    "                                                          math.isclose(1, value))\n",
    "\n",
    "    if not (is_valid_normalized_value(normalized_x) and\n",
    "            is_valid_normalized_value(normalized_y)):\n",
    "        # TODO: Draw coordinates even if it's outside of the image bounds.\n",
    "        return None\n",
    "    x_px = min(math.floor(normalized_x * image_width), image_width - 1)\n",
    "    y_px = min(math.floor(normalized_y * image_height), image_height - 1)\n",
    "    return x_px, y_px\n",
    "\n",
    "\n",
    "def visualize(\n",
    "        image,\n",
    "        detection_result\n",
    ") -> np.ndarray:\n",
    "    \"\"\"Draws bounding boxes and keypoints on the input image and return it.\n",
    "    Args:\n",
    "      image: The input RGB image.\n",
    "      detection_result: The list of all \"Detection\" entities to be visualize.\n",
    "    Returns:\n",
    "      Image with bounding boxes.\n",
    "    \"\"\"\n",
    "    annotated_image = image.copy()\n",
    "    height, width, _ = image.shape\n",
    "\n",
    "    for detection in detection_result.detections:\n",
    "        # Draw bounding_box\n",
    "        bbox = detection.bounding_box\n",
    "        start_point = bbox.origin_x, bbox.origin_y\n",
    "        end_point = bbox.origin_x + bbox.width, bbox.origin_y + bbox.height\n",
    "        cv2.rectangle(annotated_image, start_point, end_point, TEXT_COLOR, 3)\n",
    "\n",
    "        # Draw keypoints\n",
    "        for keypoint in detection.keypoints:\n",
    "            keypoint_px = _normalized_to_pixel_coordinates(keypoint.x, keypoint.y,\n",
    "                                                           width, height)\n",
    "            color, thickness, radius = (0, 255, 0), 2, 2\n",
    "            cv2.circle(annotated_image, keypoint_px, thickness, color, radius)\n",
    "\n",
    "        # Draw label and score\n",
    "        category = detection.categories[0]\n",
    "        category_name = category.category_name\n",
    "        category_name = '' if category_name is None else category_name\n",
    "        probability = round(category.score, 2)\n",
    "        result_text = category_name + ' (' + str(probability) + ')'\n",
    "        text_location = (MARGIN + bbox.origin_x,\n",
    "                         MARGIN + ROW_SIZE + bbox.origin_y)\n",
    "        cv2.putText(annotated_image, result_text, text_location, cv2.FONT_HERSHEY_PLAIN,\n",
    "                    FONT_SIZE, TEXT_COLOR, FONT_THICKNESS)\n",
    "\n",
    "    return annotated_image"
   ],
   "id": "49174792e2103602",
   "outputs": [],
   "execution_count": null
  },
  {
   "metadata": {},
   "cell_type": "code",
   "source": [
    "IMAGE_FILE = \"data/wynonnaearp.jpg\"\n",
    "image = mp.Image.create_from_file(IMAGE_FILE)\n"
   ],
   "id": "cd8ba6aba7672c4b",
   "outputs": [],
   "execution_count": null
  },
  {
   "metadata": {},
   "cell_type": "code",
   "source": [
    "base_options = python.BaseOptions(model_asset_path=\"models/blaze_face_short_range.tflite\")\n",
    "options = vision.FaceDetectorOptions(base_options=base_options)\n",
    "detector = vision.FaceDetector.create_from_options(options=options)\n",
    "\n",
    "detection_result = detector.detect(image)\n",
    "\n",
    "image_copy = np.copy(image.numpy_view())\n",
    "annotated_img = visualize(image_copy, detection_result)\n",
    "rgb_annotated_img = cv2.cvtColor(annotated_img, cv2.COLOR_BGR2RGB)\n",
    "plt.imshow(rgb_annotated_img)\n"
   ],
   "id": "438de610784d2f55",
   "outputs": [],
   "execution_count": null
  }
 ],
 "metadata": {
  "kernelspec": {
   "display_name": "Python 3",
   "language": "python",
   "name": "python3"
  },
  "language_info": {
   "codemirror_mode": {
    "name": "ipython",
    "version": 2
   },
   "file_extension": ".py",
   "mimetype": "text/x-python",
   "name": "python",
   "nbconvert_exporter": "python",
   "pygments_lexer": "ipython2",
   "version": "2.7.6"
  }
 },
 "nbformat": 4,
 "nbformat_minor": 5
}
