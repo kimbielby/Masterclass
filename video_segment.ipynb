{
 "cells": [
  {
   "cell_type": "code",
   "id": "initial_id",
   "metadata": {
    "collapsed": true
   },
   "source": [
    "import cv2\n",
    "import mediapipe as mp\n",
    "import numpy as np\n",
    "from mediapipe.tasks import python\n",
    "from mediapipe.tasks.python import vision\n",
    "import matplotlib.pyplot as plt"
   ],
   "outputs": [],
   "execution_count": null
  },
  {
   "metadata": {},
   "cell_type": "markdown",
   "source": "Sort Base Options and Labels",
   "id": "7a2feb94b28af7b5"
  },
  {
   "metadata": {},
   "cell_type": "code",
   "source": [
    "model_path = \"D:\\Documents\\Education\\Bournemouth\\Semester2\\Masterclass\\Code\\models\\selfie_multiclass_256x256.tflite\"\n",
    "base_options = python.BaseOptions(model_asset_path=model_path)\n",
    "options = vision.ImageSegmenterOptions(base_options=base_options,\n",
    "                                       output_category_mask=True, output_confidence_masks=False, running_mode=vision.RunningMode.VIDEO)\n",
    "\n",
    "# Define category labels\n",
    "labels = {\n",
    "    \"Background\": 0,\n",
    "    \"Hair\": 1,\n",
    "    \"Body Skin\": 2,\n",
    "    \"Face Skin\": 3,\n",
    "    \"Clothes\": 4,\n",
    "    \"Others (Accessories)\": 5\n",
    "}\n",
    "\n",
    "# Select a label\n",
    "selected_label = \"Face Skin\"\n",
    "selected_index = labels[selected_label]\n",
    "\n",
    "# Load video file\n",
    "vid = cv2.VideoCapture(\"D:\\Documents\\Education\\Bournemouth\\Semester2\\Masterclass\\Code\\data\\\\videos\\smile_1.mp4\")\n",
    "\n",
    "# Get video properties\n",
    "frame_width = int(vid.get(3))\n",
    "frame_height = int(vid.get(4))\n",
    "fps = int(vid.get(cv2.CAP_PROP_FPS))\n",
    "\n",
    "# Define video writers for saving output\n",
    "fourcc = cv2.VideoWriter_fourcc(*\"mp4v\")\n",
    "\n",
    "\n",
    "# Frame index counter\n",
    "frame_idx = 0\n"
   ],
   "id": "438e9040e6555d0c",
   "outputs": [],
   "execution_count": null
  },
  {
   "metadata": {},
   "cell_type": "markdown",
   "source": "Create Segmenter",
   "id": "6ce65222542963dd"
  },
  {
   "metadata": {},
   "cell_type": "code",
   "source": [
    "with vision.ImageSegmenter.create_from_options(options) as segmenter:\n",
    "    while vid.isOpened():\n",
    "        ret, frame = vid.read()\n",
    "        if not ret:\n",
    "            break       # Exit loop if video ends\n",
    "\n",
    "        # Convert frame to MediaPipe format\n",
    "        frame_rgb = cv2.cvtColor(frame, cv2.COLOR_BGR2RGB)\n",
    "        input_image = mp.Image(image_format=mp.ImageFormat.SRGB, data=frame_rgb)\n",
    "\n",
    "        # Segment\n",
    "        segmentation_result = segmenter.segment_for_video(input_image, frame_idx)\n",
    "        frame_idx += 1 # Increment frame index\n",
    "\n",
    "        # Get category mask\n",
    "        category_mask = np.array(segmentation_result.category_mask.numpy_view())\n",
    "\n",
    "        # Create binary mask for selected segment\n",
    "        binary_mask = (category_mask == selected_index).astype(np.uint8) * 255\n",
    "\n",
    "        # Apply mask to the frame\n",
    "        segmented_frame = cv2.bitwise_and(frame, frame, mask=binary_mask)\n",
    "\n",
    "        # Display the og and segmented video\n",
    "        cv2.imshow(\"Original Video\", frame)\n",
    "        cv2.imshow(f\"Segmented: {selected_label}\", segmented_frame)\n",
    "\n",
    "        # Press q to quit\n",
    "        if cv2.waitKey(1) & 0xFF == ord(\"q\"):\n",
    "            break\n",
    "\n",
    "# Release resources\n",
    "vid.release()\n",
    "cv2.destroyAllWindows()\n"
   ],
   "id": "17b85a5bafd160b6",
   "outputs": [],
   "execution_count": null
  }
 ],
 "metadata": {
  "kernelspec": {
   "display_name": "Python 3",
   "language": "python",
   "name": "python3"
  },
  "language_info": {
   "codemirror_mode": {
    "name": "ipython",
    "version": 2
   },
   "file_extension": ".py",
   "mimetype": "text/x-python",
   "name": "python",
   "nbconvert_exporter": "python",
   "pygments_lexer": "ipython2",
   "version": "2.7.6"
  }
 },
 "nbformat": 4,
 "nbformat_minor": 5
}
