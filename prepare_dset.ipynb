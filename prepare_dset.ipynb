{
 "cells": [
  {
   "cell_type": "code",
   "id": "initial_id",
   "metadata": {
    "collapsed": true
   },
   "source": [
    "import cv2\n",
    "import os\n",
    "import shutil\n",
    "from Utils import get_filepaths, get_unique_filename"
   ],
   "outputs": [],
   "execution_count": null
  },
  {
   "metadata": {},
   "cell_type": "markdown",
   "source": "Create GT folder then move images into it",
   "id": "fa8271364866fa3e"
  },
  {
   "metadata": {},
   "cell_type": "code",
   "source": [
    "# Base path\n",
    "base_path = \"./data/images/dset\"\n",
    "\n",
    "# Get list of subfolder where the images are\n",
    "source_dirs = get_filepaths(base_path)\n",
    "\n",
    "# Destination directory\n",
    "destination_dir = os.path.join(base_path, \"gt\")\n",
    "\n",
    "# Create destination directory if it doesn't already exist\n",
    "os.makedirs(destination_dir, exist_ok=True)\n",
    "\n",
    "# Loop through each source folder\n",
    "for folder in source_dirs:\n",
    "    source_path = os.path.join(base_path, folder)\n",
    "    for filename in os.listdir(source_path):\n",
    "        full_path = os.path.join(source_path, filename)\n",
    "        if os.path.isfile(full_path):\n",
    "            unique_name = get_unique_filename(dest_dir=destination_dir, fname=filename)\n",
    "            shutil.move(full_path, os.path.join(destination_dir, unique_name))\n",
    "\n",
    "    # Delete folder if it's empty\n",
    "    if not os.listdir(source_path):\n",
    "        os.rmdir(source_path)\n"
   ],
   "id": "b540b51e08ec27e5",
   "outputs": [],
   "execution_count": null
  }
 ],
 "metadata": {
  "kernelspec": {
   "display_name": "Python 3",
   "language": "python",
   "name": "python3"
  },
  "language_info": {
   "codemirror_mode": {
    "name": "ipython",
    "version": 2
   },
   "file_extension": ".py",
   "mimetype": "text/x-python",
   "name": "python",
   "nbconvert_exporter": "python",
   "pygments_lexer": "ipython2",
   "version": "2.7.6"
  }
 },
 "nbformat": 4,
 "nbformat_minor": 5
}
