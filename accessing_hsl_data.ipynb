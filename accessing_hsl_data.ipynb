{
 "cells": [
  {
   "cell_type": "code",
   "id": "initial_id",
   "metadata": {
    "collapsed": true,
    "ExecuteTime": {
     "end_time": "2025-04-16T13:47:11.801744Z",
     "start_time": "2025-04-16T13:47:09.564433Z"
    }
   },
   "source": [
    "from Utils import *\n",
    "import numpy as np\n",
    "import matplotlib.pyplot as plt\n",
    "import cv2\n"
   ],
   "outputs": [],
   "execution_count": 1
  },
  {
   "metadata": {},
   "cell_type": "markdown",
   "source": "Segment",
   "id": "b3fb244473b259e0"
  },
  {
   "metadata": {
    "ExecuteTime": {
     "end_time": "2025-04-16T13:47:11.963681Z",
     "start_time": "2025-04-16T13:47:11.804692Z"
    }
   },
   "cell_type": "code",
   "source": [
    "image_path = \"data/images/20201124_142837.jpg\"\n",
    "seg_img = segment_face_et_al(og_img_path=image_path)\n"
   ],
   "id": "a8964fb60ec94bd3",
   "outputs": [
    {
     "name": "stdout",
     "output_type": "stream",
     "text": [
      "File exists: True\n",
      "Loaded data/images/20201124_142837.jpg\n"
     ]
    },
    {
     "name": "stderr",
     "output_type": "stream",
     "text": [
      "WARNING: All log messages before absl::InitializeLog() is called are written to STDERR\n",
      "I0000 00:00:1744811231.832334  199111 gl_context_egl.cc:85] Successfully initialized EGL. Major : 1 Minor: 5\n",
      "W0000 00:00:1744811231.832371  199111 gl_context_egl.cc:184] Creating a context with OpenGL ES 3 failed: INTERNAL: ; RET_CHECK failure (mediapipe/gpu/gl_context_egl.cc:164) context_ != EGL_NO_CONTEXTCould not create GLES 3 context; eglCreateContext() returned error 0x3000\n",
      "W0000 00:00:1744811231.832373  199111 gl_context_egl.cc:186] Fall back on OpenGL ES 2.\n",
      "I0000 00:00:1744811231.832379  199111 task_runner.cc:85] GPU suport is not available: INTERNAL: ; RET_CHECK failure (mediapipe/gpu/gl_context_egl.cc:164) context_ != EGL_NO_CONTEXTCould not create GLES 2 context; eglCreateContext() returned error 0x3000\n",
      "I0000 00:00:1744811231.855627  199111 gl_context_egl.cc:85] Successfully initialized EGL. Major : 1 Minor: 5\n",
      "W0000 00:00:1744811231.855652  199111 gl_context_egl.cc:184] Creating a context with OpenGL ES 3 failed: INTERNAL: ; RET_CHECK failure (mediapipe/gpu/gl_context_egl.cc:164) context_ != EGL_NO_CONTEXTCould not create GLES 3 context; eglCreateContext() returned error 0x3000\n",
      "W0000 00:00:1744811231.855654  199111 gl_context_egl.cc:186] Fall back on OpenGL ES 2.\n",
      "I0000 00:00:1744811231.855665  199111 gl_context_egl.cc:85] Successfully initialized EGL. Major : 1 Minor: 5\n",
      "W0000 00:00:1744811231.855668  199111 gl_context_egl.cc:184] Creating a context with OpenGL ES 3 failed: INTERNAL: ; RET_CHECK failure (mediapipe/gpu/gl_context_egl.cc:164) context_ != EGL_NO_CONTEXTCould not create GLES 3 context; eglCreateContext() returned error 0x3000\n",
      "W0000 00:00:1744811231.855669  199111 gl_context_egl.cc:186] Fall back on OpenGL ES 2.\n",
      "INFO: Created TensorFlow Lite XNNPACK delegate for CPU.\n",
      "W0000 00:00:1744811231.879057  199149 inference_feedback_manager.cc:114] Feedback manager requires a model with a single signature inference. Disabling support for feedback tensors.\n",
      "/home/s5727767/anaconda3/envs/masterclass/lib/python3.10/site-packages/mediapipe/tasks/python/vision/image_segmenter.py:158: UserWarning: MessageFactory class is deprecated. Please use GetMessageClass() instead of MessageFactory.GetPrototype. MessageFactory class will be removed after 2024.\n",
      "  graph_config = self._runner.get_graph_config()\n"
     ]
    }
   ],
   "execution_count": 2
  },
  {
   "metadata": {},
   "cell_type": "markdown",
   "source": "Skin mask",
   "id": "cd909597736a6c73"
  },
  {
   "metadata": {
    "ExecuteTime": {
     "end_time": "2025-04-16T13:47:12.275804Z",
     "start_time": "2025-04-16T13:47:12.268873Z"
    }
   },
   "cell_type": "code",
   "source": [
    "hsv_seg = cv2.cvtColor(seg_img, cv2.COLOR_BGR2HSV)  # HSV\n",
    "hls_seg = cv2.cvtColor(seg_img, cv2.COLOR_BGR2HLS)    # HLS\n",
    "hue, lum, sat = cv2.split(hls_seg)  # Hue, Luminosity, Saturation\n",
    "\n",
    "lower = np.array([0, 180, 35])           # Hue, Luminosity, Saturation\n",
    "upper = np.array([25, 255, 90])     # Hue, Luminosity, Saturation\n",
    "skin_mask = cv2.inRange(hls_seg, lower, upper)\n",
    "skin_pixels = hls_seg[skin_mask > 0]\n"
   ],
   "id": "9a19177fb0de29a2",
   "outputs": [],
   "execution_count": 3
  },
  {
   "metadata": {},
   "cell_type": "markdown",
   "source": "Access HSL data",
   "id": "2f0b4d1b608632a7"
  },
  {
   "metadata": {
    "ExecuteTime": {
     "end_time": "2025-04-16T13:47:12.314306Z",
     "start_time": "2025-04-16T13:47:12.311102Z"
    }
   },
   "cell_type": "code",
   "source": "skin_pixels.shape",
   "id": "4882c8781fa3196f",
   "outputs": [
    {
     "data": {
      "text/plain": [
       "(1656, 3)"
      ]
     },
     "execution_count": 4,
     "metadata": {},
     "output_type": "execute_result"
    }
   ],
   "execution_count": 4
  },
  {
   "metadata": {
    "ExecuteTime": {
     "end_time": "2025-04-16T14:06:28.043728Z",
     "start_time": "2025-04-16T14:06:28.041712Z"
    }
   },
   "cell_type": "code",
   "source": "skin_pixels[500]    # Hue, Luminosity, Saturation",
   "id": "2788ec6c750ddee4",
   "outputs": [
    {
     "data": {
      "text/plain": [
       "array([  5, 183,  62], dtype=uint8)"
      ]
     },
     "execution_count": 7,
     "metadata": {},
     "output_type": "execute_result"
    }
   ],
   "execution_count": 7
  }
 ],
 "metadata": {
  "kernelspec": {
   "display_name": "Python 3",
   "language": "python",
   "name": "python3"
  },
  "language_info": {
   "codemirror_mode": {
    "name": "ipython",
    "version": 2
   },
   "file_extension": ".py",
   "mimetype": "text/x-python",
   "name": "python",
   "nbconvert_exporter": "python",
   "pygments_lexer": "ipython2",
   "version": "2.7.6"
  }
 },
 "nbformat": 4,
 "nbformat_minor": 5
}
